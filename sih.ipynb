{
 "cells": [
  {
   "cell_type": "code",
   "execution_count": 1,
   "metadata": {},
   "outputs": [],
   "source": [
    "import os\n",
    "import librosa\n",
    "import numpy as np\n",
    "import tensorflow as tf\n",
    "from sklearn.model_selection import train_test_split\n",
    "from tensorflow.keras.utils import to_categorical\n",
    "from tensorflow.keras.callbacks import ModelCheckpoint\n",
    "import matplotlib.pyplot as plt"
   ]
  },
  {
   "cell_type": "code",
   "execution_count": 2,
   "metadata": {},
   "outputs": [],
   "source": [
    "SR=22050\n",
    "N_MFCC=40\n",
    "N_MELS=128\n",
    "DURATION=1\n",
    "SAMPLES_PER_TRACK=SR*DURATION\n",
    "CLASSES=['AssaultRifle','MachineGun','Noise']"
   ]
  },
  {
   "cell_type": "code",
   "execution_count": 3,
   "metadata": {},
   "outputs": [],
   "source": [
    "def extract_features(file_path):\n",
    "    y,sr=librosa.load(file_path,sr=SR,duration=DURATION)\n",
    "    if len(y)<SAMPLES_PER_TRACK:\n",
    "        y=np.pad(y,(0,SAMPLES_PER_TRACK-len(y)))\n",
    "    else:\n",
    "        y=y[:SAMPLES_PER_TRACK]\n",
    "    mfcc=librosa.feature.mfcc(y=y,sr=sr,n_mfcc=N_MFCC)\n",
    "    mfcc=librosa.util.fix_length(mfcc,size=174,axis=1)\n",
    "    mfcc=mfcc[...,np.newaxis]\n",
    "    mel_spec=librosa.feature.melspectrogram(y=y,sr=sr)\n",
    "    mel_spec=librosa.power_to_db(mel_spec,ref=np.max)\n",
    "    # plt.figure(figsize=(10,6))\n",
    "    # librosa.display.specshow(mel_spec,sr=SR,x_axis='time',y_axis='mel')\n",
    "    # plt.colorbar(format='%+2.0f dB')\n",
    "    # plt.title('Mel-Spectogram')\n",
    "    # plt.tight_layout()\n",
    "    # plt.show()\n",
    "    mel_spec=librosa.util.fix_length(mel_spec,size=174,axis=1)\n",
    "    mel_spec=mel_spec[...,np.newaxis]\n",
    "    return mfcc,mel_spec"
   ]
  },
  {
   "cell_type": "code",
   "execution_count": 4,
   "metadata": {},
   "outputs": [],
   "source": [
    "# mfcc_ex,melspec_ex=extract_features('trimmed/MachineGun/4 (4).wav')"
   ]
  },
  {
   "cell_type": "code",
   "execution_count": 5,
   "metadata": {},
   "outputs": [],
   "source": [
    "# melspec_ex = np.expand_dims(melspec_ex, axis=0)\n",
    "# melspec_ex.shape"
   ]
  },
  {
   "cell_type": "code",
   "execution_count": 6,
   "metadata": {},
   "outputs": [],
   "source": [
    "# mfcc_ex = np.expand_dims(mfcc_ex, axis=0)\n",
    "# mfcc_ex.shape"
   ]
  },
  {
   "cell_type": "code",
   "execution_count": 7,
   "metadata": {},
   "outputs": [],
   "source": [
    "def load_dataset(dataset_path):\n",
    "    x_mfcc,x_melspec,y=[],[],[]\n",
    "    for i,class_name in enumerate(CLASSES):\n",
    "        class_dir=os.path.join(dataset_path,class_name)\n",
    "        for file_name in os.listdir(class_dir):\n",
    "            if file_name.endswith(\".wav\"):\n",
    "                file_path=os.path.join(class_dir,file_name)\n",
    "                mfcc,mel_spec=extract_features(file_path)\n",
    "                x_mfcc.append(mfcc)\n",
    "                x_melspec.append(mel_spec)\n",
    "                y.append(i)\n",
    "    x_mfcc=np.array(x_mfcc)\n",
    "    x_melspec=np.array(x_melspec)\n",
    "    y=to_categorical(y,num_classes=len(CLASSES))\n",
    "    return x_mfcc,x_melspec,y\n"
   ]
  },
  {
   "cell_type": "code",
   "execution_count": 8,
   "metadata": {},
   "outputs": [],
   "source": [
    "X_mfcc,X_melspec,y=load_dataset('new_dataset')"
   ]
  },
  {
   "cell_type": "code",
   "execution_count": 9,
   "metadata": {},
   "outputs": [
    {
     "data": {
      "text/plain": [
       "(2252, 128, 174, 1)"
      ]
     },
     "execution_count": 9,
     "metadata": {},
     "output_type": "execute_result"
    }
   ],
   "source": [
    "X_melspec.shape"
   ]
  },
  {
   "cell_type": "code",
   "execution_count": 10,
   "metadata": {},
   "outputs": [
    {
     "data": {
      "text/plain": [
       "(2252, 40, 174, 1)"
      ]
     },
     "execution_count": 10,
     "metadata": {},
     "output_type": "execute_result"
    }
   ],
   "source": [
    "X_mfcc.shape"
   ]
  },
  {
   "cell_type": "code",
   "execution_count": 11,
   "metadata": {},
   "outputs": [],
   "source": [
    "X_mfcc_trainval, X_mfcc_test, X_melspec_trainval, X_melspec_test, y_trainval, y_test = train_test_split(\n",
    "    X_mfcc, X_melspec, y, test_size=0.3, random_state=2\n",
    ")\n",
    "\n",
    "# Then, split the training+validation set into training and validation sets\n",
    "X_mfcc_train, X_mfcc_val, X_melspec_train, X_melspec_val, y_train, y_val = train_test_split(\n",
    "    X_mfcc_trainval, X_melspec_trainval, y_trainval, test_size=0.2, random_state=2\n",
    ")"
   ]
  },
  {
   "cell_type": "code",
   "execution_count": 12,
   "metadata": {},
   "outputs": [],
   "source": [
    "import tensorflow as tf\n",
    "from tensorflow.keras.layers import Conv2D,MaxPooling2D,Dropout,GlobalAveragePooling2D,Dense,Input\n",
    "from tensorflow.keras.models import Model\n",
    "def create_model(input_shape_mfcc,input_shape_melspec,num_classes=3):\n",
    "    input_mfcc=Input(shape=input_shape_mfcc,name='mfcc_input')\n",
    "    x_mfcc=Conv2D(16,kernel_size=(3,3),activation='relu')(input_mfcc)\n",
    "    x_mfcc=MaxPooling2D(pool_size=(2,2))(x_mfcc)\n",
    "    x_mfcc=Dropout(0.3)(x_mfcc)\n",
    "\n",
    "    x_mfcc=Conv2D(32,kernel_size=(3,3),activation='relu')(x_mfcc)\n",
    "    x_mfcc=MaxPooling2D(pool_size=(2,2))(x_mfcc)\n",
    "    x_mfcc=Dropout(0.3)(x_mfcc)\n",
    "\n",
    "    x_mfcc=Conv2D(64,kernel_size=(3,3),activation='relu')(x_mfcc)\n",
    "    x_mfcc=MaxPooling2D(pool_size=(1,2))(x_mfcc)\n",
    "    x_mfcc=Dropout(0.3)(x_mfcc)\n",
    "    \n",
    "    x_mfcc=Conv2D(128,kernel_size=(3,3),activation='relu')(x_mfcc)\n",
    "    x_mfcc=MaxPooling2D(pool_size=(2,2))(x_mfcc)\n",
    "    x_mfcc=Dropout(0.3)(x_mfcc)\n",
    "    \n",
    "    x_mfcc=GlobalAveragePooling2D()(x_mfcc)\n",
    "\n",
    "    input_melspec=Input(shape=input_shape_melspec,name='melspec_input')\n",
    "    x_melspec=Conv2D(16,kernel_size=(3,3),activation='relu')(input_melspec)\n",
    "    x_melspec=MaxPooling2D(pool_size=(2,2))(x_melspec)\n",
    "    x_melspec=Dropout(0.3)(x_melspec)\n",
    "\n",
    "    x_melspec=Conv2D(32,kernel_size=(3,3),activation='relu')(x_melspec)\n",
    "    x_melspec=MaxPooling2D(pool_size=(2,2))(x_melspec)\n",
    "    x_melspec=Dropout(0.3)(x_melspec)\n",
    "\n",
    "    x_melspec=Conv2D(64,kernel_size=(3,3),activation='relu')(x_melspec)\n",
    "    x_melspec=MaxPooling2D(pool_size=(2,2))(x_melspec)\n",
    "    x_melspec=Dropout(0.3)(x_melspec)\n",
    "\n",
    "    x_melspec=Conv2D(128,kernel_size=(3,3),activation='relu')(x_melspec)\n",
    "    x_melspec=MaxPooling2D(pool_size=(2,2))(x_melspec)\n",
    "    x_melspec=Dropout(0.3)(x_melspec)\n",
    "\n",
    "    x_melspec = GlobalAveragePooling2D()(x_melspec)\n",
    "\n",
    "    concatenated=tf.keras.layers.concatenate([x_mfcc,x_melspec])\n",
    "    output=Dense(128,activation='relu')(concatenated)\n",
    "    output=Dense(num_classes,activation='softmax')(output)\n",
    "\n",
    "    model=Model(inputs=[input_mfcc,input_melspec],outputs=output)\n",
    "    return model"
   ]
  },
  {
   "cell_type": "code",
   "execution_count": 13,
   "metadata": {},
   "outputs": [],
   "source": [
    "input_shape_mfcc=(40,174,1)\n",
    "input_shape_melspec=(128,174,1)\n",
    "model=create_model(input_shape_mfcc,input_shape_melspec,num_classes=3)\n"
   ]
  },
  {
   "cell_type": "code",
   "execution_count": 14,
   "metadata": {},
   "outputs": [
    {
     "data": {
      "text/html": [
       "<pre style=\"white-space:pre;overflow-x:auto;line-height:normal;font-family:Menlo,'DejaVu Sans Mono',consolas,'Courier New',monospace\"><span style=\"font-weight: bold\">Model: \"functional\"</span>\n",
       "</pre>\n"
      ],
      "text/plain": [
       "\u001b[1mModel: \"functional\"\u001b[0m\n"
      ]
     },
     "metadata": {},
     "output_type": "display_data"
    },
    {
     "data": {
      "text/html": [
       "<pre style=\"white-space:pre;overflow-x:auto;line-height:normal;font-family:Menlo,'DejaVu Sans Mono',consolas,'Courier New',monospace\">┏━━━━━━━━━━━━━━━━━━━━━┳━━━━━━━━━━━━━━━━━━━┳━━━━━━━━━━━━┳━━━━━━━━━━━━━━━━━━━┓\n",
       "┃<span style=\"font-weight: bold\"> Layer (type)        </span>┃<span style=\"font-weight: bold\"> Output Shape      </span>┃<span style=\"font-weight: bold\">    Param # </span>┃<span style=\"font-weight: bold\"> Connected to      </span>┃\n",
       "┡━━━━━━━━━━━━━━━━━━━━━╇━━━━━━━━━━━━━━━━━━━╇━━━━━━━━━━━━╇━━━━━━━━━━━━━━━━━━━┩\n",
       "│ mfcc_input          │ (<span style=\"color: #00d7ff; text-decoration-color: #00d7ff\">None</span>, <span style=\"color: #00af00; text-decoration-color: #00af00\">40</span>, <span style=\"color: #00af00; text-decoration-color: #00af00\">174</span>,   │          <span style=\"color: #00af00; text-decoration-color: #00af00\">0</span> │ -                 │\n",
       "│ (<span style=\"color: #0087ff; text-decoration-color: #0087ff\">InputLayer</span>)        │ <span style=\"color: #00af00; text-decoration-color: #00af00\">1</span>)                │            │                   │\n",
       "├─────────────────────┼───────────────────┼────────────┼───────────────────┤\n",
       "│ melspec_input       │ (<span style=\"color: #00d7ff; text-decoration-color: #00d7ff\">None</span>, <span style=\"color: #00af00; text-decoration-color: #00af00\">128</span>, <span style=\"color: #00af00; text-decoration-color: #00af00\">174</span>,  │          <span style=\"color: #00af00; text-decoration-color: #00af00\">0</span> │ -                 │\n",
       "│ (<span style=\"color: #0087ff; text-decoration-color: #0087ff\">InputLayer</span>)        │ <span style=\"color: #00af00; text-decoration-color: #00af00\">1</span>)                │            │                   │\n",
       "├─────────────────────┼───────────────────┼────────────┼───────────────────┤\n",
       "│ conv2d (<span style=\"color: #0087ff; text-decoration-color: #0087ff\">Conv2D</span>)     │ (<span style=\"color: #00d7ff; text-decoration-color: #00d7ff\">None</span>, <span style=\"color: #00af00; text-decoration-color: #00af00\">38</span>, <span style=\"color: #00af00; text-decoration-color: #00af00\">172</span>,   │        <span style=\"color: #00af00; text-decoration-color: #00af00\">160</span> │ mfcc_input[<span style=\"color: #00af00; text-decoration-color: #00af00\">0</span>][<span style=\"color: #00af00; text-decoration-color: #00af00\">0</span>]  │\n",
       "│                     │ <span style=\"color: #00af00; text-decoration-color: #00af00\">16</span>)               │            │                   │\n",
       "├─────────────────────┼───────────────────┼────────────┼───────────────────┤\n",
       "│ conv2d_4 (<span style=\"color: #0087ff; text-decoration-color: #0087ff\">Conv2D</span>)   │ (<span style=\"color: #00d7ff; text-decoration-color: #00d7ff\">None</span>, <span style=\"color: #00af00; text-decoration-color: #00af00\">126</span>, <span style=\"color: #00af00; text-decoration-color: #00af00\">172</span>,  │        <span style=\"color: #00af00; text-decoration-color: #00af00\">160</span> │ melspec_input[<span style=\"color: #00af00; text-decoration-color: #00af00\">0</span>]… │\n",
       "│                     │ <span style=\"color: #00af00; text-decoration-color: #00af00\">16</span>)               │            │                   │\n",
       "├─────────────────────┼───────────────────┼────────────┼───────────────────┤\n",
       "│ max_pooling2d       │ (<span style=\"color: #00d7ff; text-decoration-color: #00d7ff\">None</span>, <span style=\"color: #00af00; text-decoration-color: #00af00\">19</span>, <span style=\"color: #00af00; text-decoration-color: #00af00\">86</span>,    │          <span style=\"color: #00af00; text-decoration-color: #00af00\">0</span> │ conv2d[<span style=\"color: #00af00; text-decoration-color: #00af00\">0</span>][<span style=\"color: #00af00; text-decoration-color: #00af00\">0</span>]      │\n",
       "│ (<span style=\"color: #0087ff; text-decoration-color: #0087ff\">MaxPooling2D</span>)      │ <span style=\"color: #00af00; text-decoration-color: #00af00\">16</span>)               │            │                   │\n",
       "├─────────────────────┼───────────────────┼────────────┼───────────────────┤\n",
       "│ max_pooling2d_4     │ (<span style=\"color: #00d7ff; text-decoration-color: #00d7ff\">None</span>, <span style=\"color: #00af00; text-decoration-color: #00af00\">63</span>, <span style=\"color: #00af00; text-decoration-color: #00af00\">86</span>,    │          <span style=\"color: #00af00; text-decoration-color: #00af00\">0</span> │ conv2d_4[<span style=\"color: #00af00; text-decoration-color: #00af00\">0</span>][<span style=\"color: #00af00; text-decoration-color: #00af00\">0</span>]    │\n",
       "│ (<span style=\"color: #0087ff; text-decoration-color: #0087ff\">MaxPooling2D</span>)      │ <span style=\"color: #00af00; text-decoration-color: #00af00\">16</span>)               │            │                   │\n",
       "├─────────────────────┼───────────────────┼────────────┼───────────────────┤\n",
       "│ dropout (<span style=\"color: #0087ff; text-decoration-color: #0087ff\">Dropout</span>)   │ (<span style=\"color: #00d7ff; text-decoration-color: #00d7ff\">None</span>, <span style=\"color: #00af00; text-decoration-color: #00af00\">19</span>, <span style=\"color: #00af00; text-decoration-color: #00af00\">86</span>,    │          <span style=\"color: #00af00; text-decoration-color: #00af00\">0</span> │ max_pooling2d[<span style=\"color: #00af00; text-decoration-color: #00af00\">0</span>]… │\n",
       "│                     │ <span style=\"color: #00af00; text-decoration-color: #00af00\">16</span>)               │            │                   │\n",
       "├─────────────────────┼───────────────────┼────────────┼───────────────────┤\n",
       "│ dropout_4 (<span style=\"color: #0087ff; text-decoration-color: #0087ff\">Dropout</span>) │ (<span style=\"color: #00d7ff; text-decoration-color: #00d7ff\">None</span>, <span style=\"color: #00af00; text-decoration-color: #00af00\">63</span>, <span style=\"color: #00af00; text-decoration-color: #00af00\">86</span>,    │          <span style=\"color: #00af00; text-decoration-color: #00af00\">0</span> │ max_pooling2d_4[<span style=\"color: #00af00; text-decoration-color: #00af00\">…</span> │\n",
       "│                     │ <span style=\"color: #00af00; text-decoration-color: #00af00\">16</span>)               │            │                   │\n",
       "├─────────────────────┼───────────────────┼────────────┼───────────────────┤\n",
       "│ conv2d_1 (<span style=\"color: #0087ff; text-decoration-color: #0087ff\">Conv2D</span>)   │ (<span style=\"color: #00d7ff; text-decoration-color: #00d7ff\">None</span>, <span style=\"color: #00af00; text-decoration-color: #00af00\">17</span>, <span style=\"color: #00af00; text-decoration-color: #00af00\">84</span>,    │      <span style=\"color: #00af00; text-decoration-color: #00af00\">4,640</span> │ dropout[<span style=\"color: #00af00; text-decoration-color: #00af00\">0</span>][<span style=\"color: #00af00; text-decoration-color: #00af00\">0</span>]     │\n",
       "│                     │ <span style=\"color: #00af00; text-decoration-color: #00af00\">32</span>)               │            │                   │\n",
       "├─────────────────────┼───────────────────┼────────────┼───────────────────┤\n",
       "│ conv2d_5 (<span style=\"color: #0087ff; text-decoration-color: #0087ff\">Conv2D</span>)   │ (<span style=\"color: #00d7ff; text-decoration-color: #00d7ff\">None</span>, <span style=\"color: #00af00; text-decoration-color: #00af00\">61</span>, <span style=\"color: #00af00; text-decoration-color: #00af00\">84</span>,    │      <span style=\"color: #00af00; text-decoration-color: #00af00\">4,640</span> │ dropout_4[<span style=\"color: #00af00; text-decoration-color: #00af00\">0</span>][<span style=\"color: #00af00; text-decoration-color: #00af00\">0</span>]   │\n",
       "│                     │ <span style=\"color: #00af00; text-decoration-color: #00af00\">32</span>)               │            │                   │\n",
       "├─────────────────────┼───────────────────┼────────────┼───────────────────┤\n",
       "│ max_pooling2d_1     │ (<span style=\"color: #00d7ff; text-decoration-color: #00d7ff\">None</span>, <span style=\"color: #00af00; text-decoration-color: #00af00\">8</span>, <span style=\"color: #00af00; text-decoration-color: #00af00\">42</span>, <span style=\"color: #00af00; text-decoration-color: #00af00\">32</span>) │          <span style=\"color: #00af00; text-decoration-color: #00af00\">0</span> │ conv2d_1[<span style=\"color: #00af00; text-decoration-color: #00af00\">0</span>][<span style=\"color: #00af00; text-decoration-color: #00af00\">0</span>]    │\n",
       "│ (<span style=\"color: #0087ff; text-decoration-color: #0087ff\">MaxPooling2D</span>)      │                   │            │                   │\n",
       "├─────────────────────┼───────────────────┼────────────┼───────────────────┤\n",
       "│ max_pooling2d_5     │ (<span style=\"color: #00d7ff; text-decoration-color: #00d7ff\">None</span>, <span style=\"color: #00af00; text-decoration-color: #00af00\">30</span>, <span style=\"color: #00af00; text-decoration-color: #00af00\">42</span>,    │          <span style=\"color: #00af00; text-decoration-color: #00af00\">0</span> │ conv2d_5[<span style=\"color: #00af00; text-decoration-color: #00af00\">0</span>][<span style=\"color: #00af00; text-decoration-color: #00af00\">0</span>]    │\n",
       "│ (<span style=\"color: #0087ff; text-decoration-color: #0087ff\">MaxPooling2D</span>)      │ <span style=\"color: #00af00; text-decoration-color: #00af00\">32</span>)               │            │                   │\n",
       "├─────────────────────┼───────────────────┼────────────┼───────────────────┤\n",
       "│ dropout_1 (<span style=\"color: #0087ff; text-decoration-color: #0087ff\">Dropout</span>) │ (<span style=\"color: #00d7ff; text-decoration-color: #00d7ff\">None</span>, <span style=\"color: #00af00; text-decoration-color: #00af00\">8</span>, <span style=\"color: #00af00; text-decoration-color: #00af00\">42</span>, <span style=\"color: #00af00; text-decoration-color: #00af00\">32</span>) │          <span style=\"color: #00af00; text-decoration-color: #00af00\">0</span> │ max_pooling2d_1[<span style=\"color: #00af00; text-decoration-color: #00af00\">…</span> │\n",
       "├─────────────────────┼───────────────────┼────────────┼───────────────────┤\n",
       "│ dropout_5 (<span style=\"color: #0087ff; text-decoration-color: #0087ff\">Dropout</span>) │ (<span style=\"color: #00d7ff; text-decoration-color: #00d7ff\">None</span>, <span style=\"color: #00af00; text-decoration-color: #00af00\">30</span>, <span style=\"color: #00af00; text-decoration-color: #00af00\">42</span>,    │          <span style=\"color: #00af00; text-decoration-color: #00af00\">0</span> │ max_pooling2d_5[<span style=\"color: #00af00; text-decoration-color: #00af00\">…</span> │\n",
       "│                     │ <span style=\"color: #00af00; text-decoration-color: #00af00\">32</span>)               │            │                   │\n",
       "├─────────────────────┼───────────────────┼────────────┼───────────────────┤\n",
       "│ conv2d_2 (<span style=\"color: #0087ff; text-decoration-color: #0087ff\">Conv2D</span>)   │ (<span style=\"color: #00d7ff; text-decoration-color: #00d7ff\">None</span>, <span style=\"color: #00af00; text-decoration-color: #00af00\">6</span>, <span style=\"color: #00af00; text-decoration-color: #00af00\">40</span>, <span style=\"color: #00af00; text-decoration-color: #00af00\">64</span>) │     <span style=\"color: #00af00; text-decoration-color: #00af00\">18,496</span> │ dropout_1[<span style=\"color: #00af00; text-decoration-color: #00af00\">0</span>][<span style=\"color: #00af00; text-decoration-color: #00af00\">0</span>]   │\n",
       "├─────────────────────┼───────────────────┼────────────┼───────────────────┤\n",
       "│ conv2d_6 (<span style=\"color: #0087ff; text-decoration-color: #0087ff\">Conv2D</span>)   │ (<span style=\"color: #00d7ff; text-decoration-color: #00d7ff\">None</span>, <span style=\"color: #00af00; text-decoration-color: #00af00\">28</span>, <span style=\"color: #00af00; text-decoration-color: #00af00\">40</span>,    │     <span style=\"color: #00af00; text-decoration-color: #00af00\">18,496</span> │ dropout_5[<span style=\"color: #00af00; text-decoration-color: #00af00\">0</span>][<span style=\"color: #00af00; text-decoration-color: #00af00\">0</span>]   │\n",
       "│                     │ <span style=\"color: #00af00; text-decoration-color: #00af00\">64</span>)               │            │                   │\n",
       "├─────────────────────┼───────────────────┼────────────┼───────────────────┤\n",
       "│ max_pooling2d_2     │ (<span style=\"color: #00d7ff; text-decoration-color: #00d7ff\">None</span>, <span style=\"color: #00af00; text-decoration-color: #00af00\">6</span>, <span style=\"color: #00af00; text-decoration-color: #00af00\">20</span>, <span style=\"color: #00af00; text-decoration-color: #00af00\">64</span>) │          <span style=\"color: #00af00; text-decoration-color: #00af00\">0</span> │ conv2d_2[<span style=\"color: #00af00; text-decoration-color: #00af00\">0</span>][<span style=\"color: #00af00; text-decoration-color: #00af00\">0</span>]    │\n",
       "│ (<span style=\"color: #0087ff; text-decoration-color: #0087ff\">MaxPooling2D</span>)      │                   │            │                   │\n",
       "├─────────────────────┼───────────────────┼────────────┼───────────────────┤\n",
       "│ max_pooling2d_6     │ (<span style=\"color: #00d7ff; text-decoration-color: #00d7ff\">None</span>, <span style=\"color: #00af00; text-decoration-color: #00af00\">14</span>, <span style=\"color: #00af00; text-decoration-color: #00af00\">20</span>,    │          <span style=\"color: #00af00; text-decoration-color: #00af00\">0</span> │ conv2d_6[<span style=\"color: #00af00; text-decoration-color: #00af00\">0</span>][<span style=\"color: #00af00; text-decoration-color: #00af00\">0</span>]    │\n",
       "│ (<span style=\"color: #0087ff; text-decoration-color: #0087ff\">MaxPooling2D</span>)      │ <span style=\"color: #00af00; text-decoration-color: #00af00\">64</span>)               │            │                   │\n",
       "├─────────────────────┼───────────────────┼────────────┼───────────────────┤\n",
       "│ dropout_2 (<span style=\"color: #0087ff; text-decoration-color: #0087ff\">Dropout</span>) │ (<span style=\"color: #00d7ff; text-decoration-color: #00d7ff\">None</span>, <span style=\"color: #00af00; text-decoration-color: #00af00\">6</span>, <span style=\"color: #00af00; text-decoration-color: #00af00\">20</span>, <span style=\"color: #00af00; text-decoration-color: #00af00\">64</span>) │          <span style=\"color: #00af00; text-decoration-color: #00af00\">0</span> │ max_pooling2d_2[<span style=\"color: #00af00; text-decoration-color: #00af00\">…</span> │\n",
       "├─────────────────────┼───────────────────┼────────────┼───────────────────┤\n",
       "│ dropout_6 (<span style=\"color: #0087ff; text-decoration-color: #0087ff\">Dropout</span>) │ (<span style=\"color: #00d7ff; text-decoration-color: #00d7ff\">None</span>, <span style=\"color: #00af00; text-decoration-color: #00af00\">14</span>, <span style=\"color: #00af00; text-decoration-color: #00af00\">20</span>,    │          <span style=\"color: #00af00; text-decoration-color: #00af00\">0</span> │ max_pooling2d_6[<span style=\"color: #00af00; text-decoration-color: #00af00\">…</span> │\n",
       "│                     │ <span style=\"color: #00af00; text-decoration-color: #00af00\">64</span>)               │            │                   │\n",
       "├─────────────────────┼───────────────────┼────────────┼───────────────────┤\n",
       "│ conv2d_3 (<span style=\"color: #0087ff; text-decoration-color: #0087ff\">Conv2D</span>)   │ (<span style=\"color: #00d7ff; text-decoration-color: #00d7ff\">None</span>, <span style=\"color: #00af00; text-decoration-color: #00af00\">4</span>, <span style=\"color: #00af00; text-decoration-color: #00af00\">18</span>,     │     <span style=\"color: #00af00; text-decoration-color: #00af00\">73,856</span> │ dropout_2[<span style=\"color: #00af00; text-decoration-color: #00af00\">0</span>][<span style=\"color: #00af00; text-decoration-color: #00af00\">0</span>]   │\n",
       "│                     │ <span style=\"color: #00af00; text-decoration-color: #00af00\">128</span>)              │            │                   │\n",
       "├─────────────────────┼───────────────────┼────────────┼───────────────────┤\n",
       "│ conv2d_7 (<span style=\"color: #0087ff; text-decoration-color: #0087ff\">Conv2D</span>)   │ (<span style=\"color: #00d7ff; text-decoration-color: #00d7ff\">None</span>, <span style=\"color: #00af00; text-decoration-color: #00af00\">12</span>, <span style=\"color: #00af00; text-decoration-color: #00af00\">18</span>,    │     <span style=\"color: #00af00; text-decoration-color: #00af00\">73,856</span> │ dropout_6[<span style=\"color: #00af00; text-decoration-color: #00af00\">0</span>][<span style=\"color: #00af00; text-decoration-color: #00af00\">0</span>]   │\n",
       "│                     │ <span style=\"color: #00af00; text-decoration-color: #00af00\">128</span>)              │            │                   │\n",
       "├─────────────────────┼───────────────────┼────────────┼───────────────────┤\n",
       "│ max_pooling2d_3     │ (<span style=\"color: #00d7ff; text-decoration-color: #00d7ff\">None</span>, <span style=\"color: #00af00; text-decoration-color: #00af00\">2</span>, <span style=\"color: #00af00; text-decoration-color: #00af00\">9</span>, <span style=\"color: #00af00; text-decoration-color: #00af00\">128</span>) │          <span style=\"color: #00af00; text-decoration-color: #00af00\">0</span> │ conv2d_3[<span style=\"color: #00af00; text-decoration-color: #00af00\">0</span>][<span style=\"color: #00af00; text-decoration-color: #00af00\">0</span>]    │\n",
       "│ (<span style=\"color: #0087ff; text-decoration-color: #0087ff\">MaxPooling2D</span>)      │                   │            │                   │\n",
       "├─────────────────────┼───────────────────┼────────────┼───────────────────┤\n",
       "│ max_pooling2d_7     │ (<span style=\"color: #00d7ff; text-decoration-color: #00d7ff\">None</span>, <span style=\"color: #00af00; text-decoration-color: #00af00\">6</span>, <span style=\"color: #00af00; text-decoration-color: #00af00\">9</span>, <span style=\"color: #00af00; text-decoration-color: #00af00\">128</span>) │          <span style=\"color: #00af00; text-decoration-color: #00af00\">0</span> │ conv2d_7[<span style=\"color: #00af00; text-decoration-color: #00af00\">0</span>][<span style=\"color: #00af00; text-decoration-color: #00af00\">0</span>]    │\n",
       "│ (<span style=\"color: #0087ff; text-decoration-color: #0087ff\">MaxPooling2D</span>)      │                   │            │                   │\n",
       "├─────────────────────┼───────────────────┼────────────┼───────────────────┤\n",
       "│ dropout_3 (<span style=\"color: #0087ff; text-decoration-color: #0087ff\">Dropout</span>) │ (<span style=\"color: #00d7ff; text-decoration-color: #00d7ff\">None</span>, <span style=\"color: #00af00; text-decoration-color: #00af00\">2</span>, <span style=\"color: #00af00; text-decoration-color: #00af00\">9</span>, <span style=\"color: #00af00; text-decoration-color: #00af00\">128</span>) │          <span style=\"color: #00af00; text-decoration-color: #00af00\">0</span> │ max_pooling2d_3[<span style=\"color: #00af00; text-decoration-color: #00af00\">…</span> │\n",
       "├─────────────────────┼───────────────────┼────────────┼───────────────────┤\n",
       "│ dropout_7 (<span style=\"color: #0087ff; text-decoration-color: #0087ff\">Dropout</span>) │ (<span style=\"color: #00d7ff; text-decoration-color: #00d7ff\">None</span>, <span style=\"color: #00af00; text-decoration-color: #00af00\">6</span>, <span style=\"color: #00af00; text-decoration-color: #00af00\">9</span>, <span style=\"color: #00af00; text-decoration-color: #00af00\">128</span>) │          <span style=\"color: #00af00; text-decoration-color: #00af00\">0</span> │ max_pooling2d_7[<span style=\"color: #00af00; text-decoration-color: #00af00\">…</span> │\n",
       "├─────────────────────┼───────────────────┼────────────┼───────────────────┤\n",
       "│ global_average_poo… │ (<span style=\"color: #00d7ff; text-decoration-color: #00d7ff\">None</span>, <span style=\"color: #00af00; text-decoration-color: #00af00\">128</span>)       │          <span style=\"color: #00af00; text-decoration-color: #00af00\">0</span> │ dropout_3[<span style=\"color: #00af00; text-decoration-color: #00af00\">0</span>][<span style=\"color: #00af00; text-decoration-color: #00af00\">0</span>]   │\n",
       "│ (<span style=\"color: #0087ff; text-decoration-color: #0087ff\">GlobalAveragePool…</span> │                   │            │                   │\n",
       "├─────────────────────┼───────────────────┼────────────┼───────────────────┤\n",
       "│ global_average_poo… │ (<span style=\"color: #00d7ff; text-decoration-color: #00d7ff\">None</span>, <span style=\"color: #00af00; text-decoration-color: #00af00\">128</span>)       │          <span style=\"color: #00af00; text-decoration-color: #00af00\">0</span> │ dropout_7[<span style=\"color: #00af00; text-decoration-color: #00af00\">0</span>][<span style=\"color: #00af00; text-decoration-color: #00af00\">0</span>]   │\n",
       "│ (<span style=\"color: #0087ff; text-decoration-color: #0087ff\">GlobalAveragePool…</span> │                   │            │                   │\n",
       "├─────────────────────┼───────────────────┼────────────┼───────────────────┤\n",
       "│ concatenate         │ (<span style=\"color: #00d7ff; text-decoration-color: #00d7ff\">None</span>, <span style=\"color: #00af00; text-decoration-color: #00af00\">256</span>)       │          <span style=\"color: #00af00; text-decoration-color: #00af00\">0</span> │ global_average_p… │\n",
       "│ (<span style=\"color: #0087ff; text-decoration-color: #0087ff\">Concatenate</span>)       │                   │            │ global_average_p… │\n",
       "├─────────────────────┼───────────────────┼────────────┼───────────────────┤\n",
       "│ dense (<span style=\"color: #0087ff; text-decoration-color: #0087ff\">Dense</span>)       │ (<span style=\"color: #00d7ff; text-decoration-color: #00d7ff\">None</span>, <span style=\"color: #00af00; text-decoration-color: #00af00\">128</span>)       │     <span style=\"color: #00af00; text-decoration-color: #00af00\">32,896</span> │ concatenate[<span style=\"color: #00af00; text-decoration-color: #00af00\">0</span>][<span style=\"color: #00af00; text-decoration-color: #00af00\">0</span>] │\n",
       "├─────────────────────┼───────────────────┼────────────┼───────────────────┤\n",
       "│ dense_1 (<span style=\"color: #0087ff; text-decoration-color: #0087ff\">Dense</span>)     │ (<span style=\"color: #00d7ff; text-decoration-color: #00d7ff\">None</span>, <span style=\"color: #00af00; text-decoration-color: #00af00\">3</span>)         │        <span style=\"color: #00af00; text-decoration-color: #00af00\">387</span> │ dense[<span style=\"color: #00af00; text-decoration-color: #00af00\">0</span>][<span style=\"color: #00af00; text-decoration-color: #00af00\">0</span>]       │\n",
       "└─────────────────────┴───────────────────┴────────────┴───────────────────┘\n",
       "</pre>\n"
      ],
      "text/plain": [
       "┏━━━━━━━━━━━━━━━━━━━━━┳━━━━━━━━━━━━━━━━━━━┳━━━━━━━━━━━━┳━━━━━━━━━━━━━━━━━━━┓\n",
       "┃\u001b[1m \u001b[0m\u001b[1mLayer (type)       \u001b[0m\u001b[1m \u001b[0m┃\u001b[1m \u001b[0m\u001b[1mOutput Shape     \u001b[0m\u001b[1m \u001b[0m┃\u001b[1m \u001b[0m\u001b[1m   Param #\u001b[0m\u001b[1m \u001b[0m┃\u001b[1m \u001b[0m\u001b[1mConnected to     \u001b[0m\u001b[1m \u001b[0m┃\n",
       "┡━━━━━━━━━━━━━━━━━━━━━╇━━━━━━━━━━━━━━━━━━━╇━━━━━━━━━━━━╇━━━━━━━━━━━━━━━━━━━┩\n",
       "│ mfcc_input          │ (\u001b[38;5;45mNone\u001b[0m, \u001b[38;5;34m40\u001b[0m, \u001b[38;5;34m174\u001b[0m,   │          \u001b[38;5;34m0\u001b[0m │ -                 │\n",
       "│ (\u001b[38;5;33mInputLayer\u001b[0m)        │ \u001b[38;5;34m1\u001b[0m)                │            │                   │\n",
       "├─────────────────────┼───────────────────┼────────────┼───────────────────┤\n",
       "│ melspec_input       │ (\u001b[38;5;45mNone\u001b[0m, \u001b[38;5;34m128\u001b[0m, \u001b[38;5;34m174\u001b[0m,  │          \u001b[38;5;34m0\u001b[0m │ -                 │\n",
       "│ (\u001b[38;5;33mInputLayer\u001b[0m)        │ \u001b[38;5;34m1\u001b[0m)                │            │                   │\n",
       "├─────────────────────┼───────────────────┼────────────┼───────────────────┤\n",
       "│ conv2d (\u001b[38;5;33mConv2D\u001b[0m)     │ (\u001b[38;5;45mNone\u001b[0m, \u001b[38;5;34m38\u001b[0m, \u001b[38;5;34m172\u001b[0m,   │        \u001b[38;5;34m160\u001b[0m │ mfcc_input[\u001b[38;5;34m0\u001b[0m][\u001b[38;5;34m0\u001b[0m]  │\n",
       "│                     │ \u001b[38;5;34m16\u001b[0m)               │            │                   │\n",
       "├─────────────────────┼───────────────────┼────────────┼───────────────────┤\n",
       "│ conv2d_4 (\u001b[38;5;33mConv2D\u001b[0m)   │ (\u001b[38;5;45mNone\u001b[0m, \u001b[38;5;34m126\u001b[0m, \u001b[38;5;34m172\u001b[0m,  │        \u001b[38;5;34m160\u001b[0m │ melspec_input[\u001b[38;5;34m0\u001b[0m]… │\n",
       "│                     │ \u001b[38;5;34m16\u001b[0m)               │            │                   │\n",
       "├─────────────────────┼───────────────────┼────────────┼───────────────────┤\n",
       "│ max_pooling2d       │ (\u001b[38;5;45mNone\u001b[0m, \u001b[38;5;34m19\u001b[0m, \u001b[38;5;34m86\u001b[0m,    │          \u001b[38;5;34m0\u001b[0m │ conv2d[\u001b[38;5;34m0\u001b[0m][\u001b[38;5;34m0\u001b[0m]      │\n",
       "│ (\u001b[38;5;33mMaxPooling2D\u001b[0m)      │ \u001b[38;5;34m16\u001b[0m)               │            │                   │\n",
       "├─────────────────────┼───────────────────┼────────────┼───────────────────┤\n",
       "│ max_pooling2d_4     │ (\u001b[38;5;45mNone\u001b[0m, \u001b[38;5;34m63\u001b[0m, \u001b[38;5;34m86\u001b[0m,    │          \u001b[38;5;34m0\u001b[0m │ conv2d_4[\u001b[38;5;34m0\u001b[0m][\u001b[38;5;34m0\u001b[0m]    │\n",
       "│ (\u001b[38;5;33mMaxPooling2D\u001b[0m)      │ \u001b[38;5;34m16\u001b[0m)               │            │                   │\n",
       "├─────────────────────┼───────────────────┼────────────┼───────────────────┤\n",
       "│ dropout (\u001b[38;5;33mDropout\u001b[0m)   │ (\u001b[38;5;45mNone\u001b[0m, \u001b[38;5;34m19\u001b[0m, \u001b[38;5;34m86\u001b[0m,    │          \u001b[38;5;34m0\u001b[0m │ max_pooling2d[\u001b[38;5;34m0\u001b[0m]… │\n",
       "│                     │ \u001b[38;5;34m16\u001b[0m)               │            │                   │\n",
       "├─────────────────────┼───────────────────┼────────────┼───────────────────┤\n",
       "│ dropout_4 (\u001b[38;5;33mDropout\u001b[0m) │ (\u001b[38;5;45mNone\u001b[0m, \u001b[38;5;34m63\u001b[0m, \u001b[38;5;34m86\u001b[0m,    │          \u001b[38;5;34m0\u001b[0m │ max_pooling2d_4[\u001b[38;5;34m…\u001b[0m │\n",
       "│                     │ \u001b[38;5;34m16\u001b[0m)               │            │                   │\n",
       "├─────────────────────┼───────────────────┼────────────┼───────────────────┤\n",
       "│ conv2d_1 (\u001b[38;5;33mConv2D\u001b[0m)   │ (\u001b[38;5;45mNone\u001b[0m, \u001b[38;5;34m17\u001b[0m, \u001b[38;5;34m84\u001b[0m,    │      \u001b[38;5;34m4,640\u001b[0m │ dropout[\u001b[38;5;34m0\u001b[0m][\u001b[38;5;34m0\u001b[0m]     │\n",
       "│                     │ \u001b[38;5;34m32\u001b[0m)               │            │                   │\n",
       "├─────────────────────┼───────────────────┼────────────┼───────────────────┤\n",
       "│ conv2d_5 (\u001b[38;5;33mConv2D\u001b[0m)   │ (\u001b[38;5;45mNone\u001b[0m, \u001b[38;5;34m61\u001b[0m, \u001b[38;5;34m84\u001b[0m,    │      \u001b[38;5;34m4,640\u001b[0m │ dropout_4[\u001b[38;5;34m0\u001b[0m][\u001b[38;5;34m0\u001b[0m]   │\n",
       "│                     │ \u001b[38;5;34m32\u001b[0m)               │            │                   │\n",
       "├─────────────────────┼───────────────────┼────────────┼───────────────────┤\n",
       "│ max_pooling2d_1     │ (\u001b[38;5;45mNone\u001b[0m, \u001b[38;5;34m8\u001b[0m, \u001b[38;5;34m42\u001b[0m, \u001b[38;5;34m32\u001b[0m) │          \u001b[38;5;34m0\u001b[0m │ conv2d_1[\u001b[38;5;34m0\u001b[0m][\u001b[38;5;34m0\u001b[0m]    │\n",
       "│ (\u001b[38;5;33mMaxPooling2D\u001b[0m)      │                   │            │                   │\n",
       "├─────────────────────┼───────────────────┼────────────┼───────────────────┤\n",
       "│ max_pooling2d_5     │ (\u001b[38;5;45mNone\u001b[0m, \u001b[38;5;34m30\u001b[0m, \u001b[38;5;34m42\u001b[0m,    │          \u001b[38;5;34m0\u001b[0m │ conv2d_5[\u001b[38;5;34m0\u001b[0m][\u001b[38;5;34m0\u001b[0m]    │\n",
       "│ (\u001b[38;5;33mMaxPooling2D\u001b[0m)      │ \u001b[38;5;34m32\u001b[0m)               │            │                   │\n",
       "├─────────────────────┼───────────────────┼────────────┼───────────────────┤\n",
       "│ dropout_1 (\u001b[38;5;33mDropout\u001b[0m) │ (\u001b[38;5;45mNone\u001b[0m, \u001b[38;5;34m8\u001b[0m, \u001b[38;5;34m42\u001b[0m, \u001b[38;5;34m32\u001b[0m) │          \u001b[38;5;34m0\u001b[0m │ max_pooling2d_1[\u001b[38;5;34m…\u001b[0m │\n",
       "├─────────────────────┼───────────────────┼────────────┼───────────────────┤\n",
       "│ dropout_5 (\u001b[38;5;33mDropout\u001b[0m) │ (\u001b[38;5;45mNone\u001b[0m, \u001b[38;5;34m30\u001b[0m, \u001b[38;5;34m42\u001b[0m,    │          \u001b[38;5;34m0\u001b[0m │ max_pooling2d_5[\u001b[38;5;34m…\u001b[0m │\n",
       "│                     │ \u001b[38;5;34m32\u001b[0m)               │            │                   │\n",
       "├─────────────────────┼───────────────────┼────────────┼───────────────────┤\n",
       "│ conv2d_2 (\u001b[38;5;33mConv2D\u001b[0m)   │ (\u001b[38;5;45mNone\u001b[0m, \u001b[38;5;34m6\u001b[0m, \u001b[38;5;34m40\u001b[0m, \u001b[38;5;34m64\u001b[0m) │     \u001b[38;5;34m18,496\u001b[0m │ dropout_1[\u001b[38;5;34m0\u001b[0m][\u001b[38;5;34m0\u001b[0m]   │\n",
       "├─────────────────────┼───────────────────┼────────────┼───────────────────┤\n",
       "│ conv2d_6 (\u001b[38;5;33mConv2D\u001b[0m)   │ (\u001b[38;5;45mNone\u001b[0m, \u001b[38;5;34m28\u001b[0m, \u001b[38;5;34m40\u001b[0m,    │     \u001b[38;5;34m18,496\u001b[0m │ dropout_5[\u001b[38;5;34m0\u001b[0m][\u001b[38;5;34m0\u001b[0m]   │\n",
       "│                     │ \u001b[38;5;34m64\u001b[0m)               │            │                   │\n",
       "├─────────────────────┼───────────────────┼────────────┼───────────────────┤\n",
       "│ max_pooling2d_2     │ (\u001b[38;5;45mNone\u001b[0m, \u001b[38;5;34m6\u001b[0m, \u001b[38;5;34m20\u001b[0m, \u001b[38;5;34m64\u001b[0m) │          \u001b[38;5;34m0\u001b[0m │ conv2d_2[\u001b[38;5;34m0\u001b[0m][\u001b[38;5;34m0\u001b[0m]    │\n",
       "│ (\u001b[38;5;33mMaxPooling2D\u001b[0m)      │                   │            │                   │\n",
       "├─────────────────────┼───────────────────┼────────────┼───────────────────┤\n",
       "│ max_pooling2d_6     │ (\u001b[38;5;45mNone\u001b[0m, \u001b[38;5;34m14\u001b[0m, \u001b[38;5;34m20\u001b[0m,    │          \u001b[38;5;34m0\u001b[0m │ conv2d_6[\u001b[38;5;34m0\u001b[0m][\u001b[38;5;34m0\u001b[0m]    │\n",
       "│ (\u001b[38;5;33mMaxPooling2D\u001b[0m)      │ \u001b[38;5;34m64\u001b[0m)               │            │                   │\n",
       "├─────────────────────┼───────────────────┼────────────┼───────────────────┤\n",
       "│ dropout_2 (\u001b[38;5;33mDropout\u001b[0m) │ (\u001b[38;5;45mNone\u001b[0m, \u001b[38;5;34m6\u001b[0m, \u001b[38;5;34m20\u001b[0m, \u001b[38;5;34m64\u001b[0m) │          \u001b[38;5;34m0\u001b[0m │ max_pooling2d_2[\u001b[38;5;34m…\u001b[0m │\n",
       "├─────────────────────┼───────────────────┼────────────┼───────────────────┤\n",
       "│ dropout_6 (\u001b[38;5;33mDropout\u001b[0m) │ (\u001b[38;5;45mNone\u001b[0m, \u001b[38;5;34m14\u001b[0m, \u001b[38;5;34m20\u001b[0m,    │          \u001b[38;5;34m0\u001b[0m │ max_pooling2d_6[\u001b[38;5;34m…\u001b[0m │\n",
       "│                     │ \u001b[38;5;34m64\u001b[0m)               │            │                   │\n",
       "├─────────────────────┼───────────────────┼────────────┼───────────────────┤\n",
       "│ conv2d_3 (\u001b[38;5;33mConv2D\u001b[0m)   │ (\u001b[38;5;45mNone\u001b[0m, \u001b[38;5;34m4\u001b[0m, \u001b[38;5;34m18\u001b[0m,     │     \u001b[38;5;34m73,856\u001b[0m │ dropout_2[\u001b[38;5;34m0\u001b[0m][\u001b[38;5;34m0\u001b[0m]   │\n",
       "│                     │ \u001b[38;5;34m128\u001b[0m)              │            │                   │\n",
       "├─────────────────────┼───────────────────┼────────────┼───────────────────┤\n",
       "│ conv2d_7 (\u001b[38;5;33mConv2D\u001b[0m)   │ (\u001b[38;5;45mNone\u001b[0m, \u001b[38;5;34m12\u001b[0m, \u001b[38;5;34m18\u001b[0m,    │     \u001b[38;5;34m73,856\u001b[0m │ dropout_6[\u001b[38;5;34m0\u001b[0m][\u001b[38;5;34m0\u001b[0m]   │\n",
       "│                     │ \u001b[38;5;34m128\u001b[0m)              │            │                   │\n",
       "├─────────────────────┼───────────────────┼────────────┼───────────────────┤\n",
       "│ max_pooling2d_3     │ (\u001b[38;5;45mNone\u001b[0m, \u001b[38;5;34m2\u001b[0m, \u001b[38;5;34m9\u001b[0m, \u001b[38;5;34m128\u001b[0m) │          \u001b[38;5;34m0\u001b[0m │ conv2d_3[\u001b[38;5;34m0\u001b[0m][\u001b[38;5;34m0\u001b[0m]    │\n",
       "│ (\u001b[38;5;33mMaxPooling2D\u001b[0m)      │                   │            │                   │\n",
       "├─────────────────────┼───────────────────┼────────────┼───────────────────┤\n",
       "│ max_pooling2d_7     │ (\u001b[38;5;45mNone\u001b[0m, \u001b[38;5;34m6\u001b[0m, \u001b[38;5;34m9\u001b[0m, \u001b[38;5;34m128\u001b[0m) │          \u001b[38;5;34m0\u001b[0m │ conv2d_7[\u001b[38;5;34m0\u001b[0m][\u001b[38;5;34m0\u001b[0m]    │\n",
       "│ (\u001b[38;5;33mMaxPooling2D\u001b[0m)      │                   │            │                   │\n",
       "├─────────────────────┼───────────────────┼────────────┼───────────────────┤\n",
       "│ dropout_3 (\u001b[38;5;33mDropout\u001b[0m) │ (\u001b[38;5;45mNone\u001b[0m, \u001b[38;5;34m2\u001b[0m, \u001b[38;5;34m9\u001b[0m, \u001b[38;5;34m128\u001b[0m) │          \u001b[38;5;34m0\u001b[0m │ max_pooling2d_3[\u001b[38;5;34m…\u001b[0m │\n",
       "├─────────────────────┼───────────────────┼────────────┼───────────────────┤\n",
       "│ dropout_7 (\u001b[38;5;33mDropout\u001b[0m) │ (\u001b[38;5;45mNone\u001b[0m, \u001b[38;5;34m6\u001b[0m, \u001b[38;5;34m9\u001b[0m, \u001b[38;5;34m128\u001b[0m) │          \u001b[38;5;34m0\u001b[0m │ max_pooling2d_7[\u001b[38;5;34m…\u001b[0m │\n",
       "├─────────────────────┼───────────────────┼────────────┼───────────────────┤\n",
       "│ global_average_poo… │ (\u001b[38;5;45mNone\u001b[0m, \u001b[38;5;34m128\u001b[0m)       │          \u001b[38;5;34m0\u001b[0m │ dropout_3[\u001b[38;5;34m0\u001b[0m][\u001b[38;5;34m0\u001b[0m]   │\n",
       "│ (\u001b[38;5;33mGlobalAveragePool…\u001b[0m │                   │            │                   │\n",
       "├─────────────────────┼───────────────────┼────────────┼───────────────────┤\n",
       "│ global_average_poo… │ (\u001b[38;5;45mNone\u001b[0m, \u001b[38;5;34m128\u001b[0m)       │          \u001b[38;5;34m0\u001b[0m │ dropout_7[\u001b[38;5;34m0\u001b[0m][\u001b[38;5;34m0\u001b[0m]   │\n",
       "│ (\u001b[38;5;33mGlobalAveragePool…\u001b[0m │                   │            │                   │\n",
       "├─────────────────────┼───────────────────┼────────────┼───────────────────┤\n",
       "│ concatenate         │ (\u001b[38;5;45mNone\u001b[0m, \u001b[38;5;34m256\u001b[0m)       │          \u001b[38;5;34m0\u001b[0m │ global_average_p… │\n",
       "│ (\u001b[38;5;33mConcatenate\u001b[0m)       │                   │            │ global_average_p… │\n",
       "├─────────────────────┼───────────────────┼────────────┼───────────────────┤\n",
       "│ dense (\u001b[38;5;33mDense\u001b[0m)       │ (\u001b[38;5;45mNone\u001b[0m, \u001b[38;5;34m128\u001b[0m)       │     \u001b[38;5;34m32,896\u001b[0m │ concatenate[\u001b[38;5;34m0\u001b[0m][\u001b[38;5;34m0\u001b[0m] │\n",
       "├─────────────────────┼───────────────────┼────────────┼───────────────────┤\n",
       "│ dense_1 (\u001b[38;5;33mDense\u001b[0m)     │ (\u001b[38;5;45mNone\u001b[0m, \u001b[38;5;34m3\u001b[0m)         │        \u001b[38;5;34m387\u001b[0m │ dense[\u001b[38;5;34m0\u001b[0m][\u001b[38;5;34m0\u001b[0m]       │\n",
       "└─────────────────────┴───────────────────┴────────────┴───────────────────┘\n"
      ]
     },
     "metadata": {},
     "output_type": "display_data"
    },
    {
     "data": {
      "text/html": [
       "<pre style=\"white-space:pre;overflow-x:auto;line-height:normal;font-family:Menlo,'DejaVu Sans Mono',consolas,'Courier New',monospace\"><span style=\"font-weight: bold\"> Total params: </span><span style=\"color: #00af00; text-decoration-color: #00af00\">227,587</span> (889.01 KB)\n",
       "</pre>\n"
      ],
      "text/plain": [
       "\u001b[1m Total params: \u001b[0m\u001b[38;5;34m227,587\u001b[0m (889.01 KB)\n"
      ]
     },
     "metadata": {},
     "output_type": "display_data"
    },
    {
     "data": {
      "text/html": [
       "<pre style=\"white-space:pre;overflow-x:auto;line-height:normal;font-family:Menlo,'DejaVu Sans Mono',consolas,'Courier New',monospace\"><span style=\"font-weight: bold\"> Trainable params: </span><span style=\"color: #00af00; text-decoration-color: #00af00\">227,587</span> (889.01 KB)\n",
       "</pre>\n"
      ],
      "text/plain": [
       "\u001b[1m Trainable params: \u001b[0m\u001b[38;5;34m227,587\u001b[0m (889.01 KB)\n"
      ]
     },
     "metadata": {},
     "output_type": "display_data"
    },
    {
     "data": {
      "text/html": [
       "<pre style=\"white-space:pre;overflow-x:auto;line-height:normal;font-family:Menlo,'DejaVu Sans Mono',consolas,'Courier New',monospace\"><span style=\"font-weight: bold\"> Non-trainable params: </span><span style=\"color: #00af00; text-decoration-color: #00af00\">0</span> (0.00 B)\n",
       "</pre>\n"
      ],
      "text/plain": [
       "\u001b[1m Non-trainable params: \u001b[0m\u001b[38;5;34m0\u001b[0m (0.00 B)\n"
      ]
     },
     "metadata": {},
     "output_type": "display_data"
    }
   ],
   "source": [
    "from tensorflow.keras.metrics import AUC\n",
    "model.compile(optimizer='adam',loss='categorical_crossentropy',metrics=['accuracy','Precision',AUC(),'Recall'])\n",
    "model.summary()"
   ]
  },
  {
   "cell_type": "code",
   "execution_count": 15,
   "metadata": {},
   "outputs": [
    {
     "data": {
      "text/plain": [
       "(676, 40, 174, 1)"
      ]
     },
     "execution_count": 15,
     "metadata": {},
     "output_type": "execute_result"
    }
   ],
   "source": [
    "X_mfcc_test.shape"
   ]
  },
  {
   "cell_type": "code",
   "execution_count": 17,
   "metadata": {},
   "outputs": [
    {
     "name": "stdout",
     "output_type": "stream",
     "text": [
      "Epoch 1/70\n",
      "\u001b[1m40/40\u001b[0m \u001b[32m━━━━━━━━━━━━━━━━━━━━\u001b[0m\u001b[37m\u001b[0m \u001b[1m7s\u001b[0m 170ms/step - Precision: 0.6478 - Recall: 0.1108 - accuracy: 0.5521 - auc: 0.7263 - loss: 0.9923 - val_Precision: 0.8156 - val_Recall: 0.4620 - val_accuracy: 0.6962 - val_auc: 0.8425 - val_loss: 0.8087\n",
      "Epoch 2/70\n",
      "\u001b[1m40/40\u001b[0m \u001b[32m━━━━━━━━━━━━━━━━━━━━\u001b[0m\u001b[37m\u001b[0m \u001b[1m6s\u001b[0m 154ms/step - Precision: 0.7614 - Recall: 0.6644 - accuracy: 0.7268 - auc: 0.8475 - loss: 0.7521 - val_Precision: 0.7951 - val_Recall: 0.6139 - val_accuracy: 0.7405 - val_auc: 0.8867 - val_loss: 0.7296\n",
      "Epoch 3/70\n",
      "\u001b[1m40/40\u001b[0m \u001b[32m━━━━━━━━━━━━━━━━━━━━\u001b[0m\u001b[37m\u001b[0m \u001b[1m6s\u001b[0m 150ms/step - Precision: 0.7641 - Recall: 0.6847 - accuracy: 0.7432 - auc: 0.8752 - loss: 0.6820 - val_Precision: 0.8656 - val_Recall: 0.6930 - val_accuracy: 0.7785 - val_auc: 0.9238 - val_loss: 0.6043\n",
      "Epoch 4/70\n",
      "\u001b[1m40/40\u001b[0m \u001b[32m━━━━━━━━━━━━━━━━━━━━\u001b[0m\u001b[37m\u001b[0m \u001b[1m6s\u001b[0m 150ms/step - Precision: 0.7981 - Recall: 0.7284 - accuracy: 0.7785 - auc: 0.9006 - loss: 0.6061 - val_Precision: 0.8602 - val_Recall: 0.7595 - val_accuracy: 0.8196 - val_auc: 0.9324 - val_loss: 0.5412\n",
      "Epoch 5/70\n",
      "\u001b[1m40/40\u001b[0m \u001b[32m━━━━━━━━━━━━━━━━━━━━\u001b[0m\u001b[37m\u001b[0m \u001b[1m6s\u001b[0m 152ms/step - Precision: 0.8221 - Recall: 0.7840 - accuracy: 0.8102 - auc: 0.9310 - loss: 0.5056 - val_Precision: 0.8702 - val_Recall: 0.7848 - val_accuracy: 0.8354 - val_auc: 0.9469 - val_loss: 0.5132\n",
      "Epoch 6/70\n",
      "\u001b[1m40/40\u001b[0m \u001b[32m━━━━━━━━━━━━━━━━━━━━\u001b[0m\u001b[37m\u001b[0m \u001b[1m6s\u001b[0m 150ms/step - Precision: 0.8400 - Recall: 0.8163 - accuracy: 0.8277 - auc: 0.9458 - loss: 0.4394 - val_Precision: 0.8900 - val_Recall: 0.8196 - val_accuracy: 0.8703 - val_auc: 0.9567 - val_loss: 0.4509\n",
      "Epoch 7/70\n",
      "\u001b[1m40/40\u001b[0m \u001b[32m━━━━━━━━━━━━━━━━━━━━\u001b[0m\u001b[37m\u001b[0m \u001b[1m6s\u001b[0m 150ms/step - Precision: 0.8363 - Recall: 0.8119 - accuracy: 0.8270 - auc: 0.9385 - loss: 0.4710 - val_Precision: 0.8946 - val_Recall: 0.8323 - val_accuracy: 0.8734 - val_auc: 0.9559 - val_loss: 0.4444\n",
      "Epoch 8/70\n",
      "\u001b[1m40/40\u001b[0m \u001b[32m━━━━━━━━━━━━━━━━━━━━\u001b[0m\u001b[37m\u001b[0m \u001b[1m6s\u001b[0m 149ms/step - Precision: 0.8699 - Recall: 0.8322 - accuracy: 0.8548 - auc: 0.9519 - loss: 0.4176 - val_Precision: 0.8863 - val_Recall: 0.8386 - val_accuracy: 0.8608 - val_auc: 0.9638 - val_loss: 0.4080\n",
      "Epoch 9/70\n",
      "\u001b[1m40/40\u001b[0m \u001b[32m━━━━━━━━━━━━━━━━━━━━\u001b[0m\u001b[37m\u001b[0m \u001b[1m6s\u001b[0m 148ms/step - Precision: 0.8835 - Recall: 0.8463 - accuracy: 0.8658 - auc: 0.9529 - loss: 0.4114 - val_Precision: 0.9078 - val_Recall: 0.8418 - val_accuracy: 0.8829 - val_auc: 0.9689 - val_loss: 0.3787\n",
      "Epoch 10/70\n",
      "\u001b[1m40/40\u001b[0m \u001b[32m━━━━━━━━━━━━━━━━━━━━\u001b[0m\u001b[37m\u001b[0m \u001b[1m6s\u001b[0m 152ms/step - Precision: 0.9044 - Recall: 0.8724 - accuracy: 0.8911 - auc: 0.9722 - loss: 0.3178 - val_Precision: 0.8863 - val_Recall: 0.8386 - val_accuracy: 0.8671 - val_auc: 0.9615 - val_loss: 0.3904\n",
      "Epoch 11/70\n",
      "\u001b[1m40/40\u001b[0m \u001b[32m━━━━━━━━━━━━━━━━━━━━\u001b[0m\u001b[37m\u001b[0m \u001b[1m6s\u001b[0m 153ms/step - Precision: 0.9009 - Recall: 0.8745 - accuracy: 0.8936 - auc: 0.9637 - loss: 0.3462 - val_Precision: 0.9262 - val_Recall: 0.8734 - val_accuracy: 0.9019 - val_auc: 0.9703 - val_loss: 0.3477\n",
      "Epoch 12/70\n",
      "\u001b[1m40/40\u001b[0m \u001b[32m━━━━━━━━━━━━━━━━━━━━\u001b[0m\u001b[37m\u001b[0m \u001b[1m6s\u001b[0m 149ms/step - Precision: 0.9108 - Recall: 0.8866 - accuracy: 0.8954 - auc: 0.9729 - loss: 0.3048 - val_Precision: 0.8845 - val_Recall: 0.8481 - val_accuracy: 0.8639 - val_auc: 0.9616 - val_loss: 0.4046\n",
      "Epoch 13/70\n",
      "\u001b[1m40/40\u001b[0m \u001b[32m━━━━━━━━━━━━━━━━━━━━\u001b[0m\u001b[37m\u001b[0m \u001b[1m6s\u001b[0m 150ms/step - Precision: 0.8890 - Recall: 0.8687 - accuracy: 0.8784 - auc: 0.9725 - loss: 0.3191 - val_Precision: 0.9213 - val_Recall: 0.8892 - val_accuracy: 0.9082 - val_auc: 0.9748 - val_loss: 0.3106\n",
      "Epoch 14/70\n",
      "\u001b[1m40/40\u001b[0m \u001b[32m━━━━━━━━━━━━━━━━━━━━\u001b[0m\u001b[37m\u001b[0m \u001b[1m6s\u001b[0m 153ms/step - Precision: 0.9240 - Recall: 0.9077 - accuracy: 0.9133 - auc: 0.9772 - loss: 0.2696 - val_Precision: 0.9311 - val_Recall: 0.8987 - val_accuracy: 0.9177 - val_auc: 0.9747 - val_loss: 0.2951\n",
      "Epoch 15/70\n",
      "\u001b[1m40/40\u001b[0m \u001b[32m━━━━━━━━━━━━━━━━━━━━\u001b[0m\u001b[37m\u001b[0m \u001b[1m6s\u001b[0m 150ms/step - Precision: 0.9390 - Recall: 0.9265 - accuracy: 0.9329 - auc: 0.9839 - loss: 0.2232 - val_Precision: 0.9199 - val_Recall: 0.9082 - val_accuracy: 0.9114 - val_auc: 0.9775 - val_loss: 0.2743\n",
      "Epoch 16/70\n",
      "\u001b[1m40/40\u001b[0m \u001b[32m━━━━━━━━━━━━━━━━━━━━\u001b[0m\u001b[37m\u001b[0m \u001b[1m6s\u001b[0m 151ms/step - Precision: 0.9335 - Recall: 0.9233 - accuracy: 0.9276 - auc: 0.9852 - loss: 0.2214 - val_Precision: 0.9417 - val_Recall: 0.9209 - val_accuracy: 0.9304 - val_auc: 0.9768 - val_loss: 0.2803\n",
      "Epoch 17/70\n",
      "\u001b[1m40/40\u001b[0m \u001b[32m━━━━━━━━━━━━━━━━━━━━\u001b[0m\u001b[37m\u001b[0m \u001b[1m6s\u001b[0m 153ms/step - Precision: 0.9305 - Recall: 0.9201 - accuracy: 0.9279 - auc: 0.9821 - loss: 0.2403 - val_Precision: 0.9323 - val_Recall: 0.9146 - val_accuracy: 0.9272 - val_auc: 0.9743 - val_loss: 0.2850\n",
      "Epoch 18/70\n",
      "\u001b[1m40/40\u001b[0m \u001b[32m━━━━━━━━━━━━━━━━━━━━\u001b[0m\u001b[37m\u001b[0m \u001b[1m6s\u001b[0m 151ms/step - Precision: 0.9343 - Recall: 0.9249 - accuracy: 0.9302 - auc: 0.9885 - loss: 0.1936 - val_Precision: 0.9256 - val_Recall: 0.9051 - val_accuracy: 0.9114 - val_auc: 0.9762 - val_loss: 0.3018\n",
      "Epoch 19/70\n",
      "\u001b[1m40/40\u001b[0m \u001b[32m━━━━━━━━━━━━━━━━━━━━\u001b[0m\u001b[37m\u001b[0m \u001b[1m6s\u001b[0m 148ms/step - Precision: 0.9368 - Recall: 0.9294 - accuracy: 0.9322 - auc: 0.9839 - loss: 0.2209 - val_Precision: 0.9351 - val_Recall: 0.9114 - val_accuracy: 0.9177 - val_auc: 0.9773 - val_loss: 0.2784\n",
      "Epoch 20/70\n",
      "\u001b[1m40/40\u001b[0m \u001b[32m━━━━━━━━━━━━━━━━━━━━\u001b[0m\u001b[37m\u001b[0m \u001b[1m6s\u001b[0m 148ms/step - Precision: 0.9341 - Recall: 0.9207 - accuracy: 0.9289 - auc: 0.9807 - loss: 0.2481 - val_Precision: 0.9153 - val_Recall: 0.8892 - val_accuracy: 0.8987 - val_auc: 0.9721 - val_loss: 0.3145\n",
      "Epoch 21/70\n",
      "\u001b[1m40/40\u001b[0m \u001b[32m━━━━━━━━━━━━━━━━━━━━\u001b[0m\u001b[37m\u001b[0m \u001b[1m6s\u001b[0m 148ms/step - Precision: 0.9494 - Recall: 0.9395 - accuracy: 0.9443 - auc: 0.9877 - loss: 0.1914 - val_Precision: 0.9513 - val_Recall: 0.9272 - val_accuracy: 0.9430 - val_auc: 0.9826 - val_loss: 0.2385\n",
      "Epoch 22/70\n",
      "\u001b[1m40/40\u001b[0m \u001b[32m━━━━━━━━━━━━━━━━━━━━\u001b[0m\u001b[37m\u001b[0m \u001b[1m6s\u001b[0m 148ms/step - Precision: 0.9470 - Recall: 0.9394 - accuracy: 0.9407 - auc: 0.9912 - loss: 0.1695 - val_Precision: 0.9375 - val_Recall: 0.9019 - val_accuracy: 0.9241 - val_auc: 0.9757 - val_loss: 0.3094\n",
      "Epoch 23/70\n",
      "\u001b[1m40/40\u001b[0m \u001b[32m━━━━━━━━━━━━━━━━━━━━\u001b[0m\u001b[37m\u001b[0m \u001b[1m6s\u001b[0m 148ms/step - Precision: 0.9487 - Recall: 0.9284 - accuracy: 0.9387 - auc: 0.9873 - loss: 0.2035 - val_Precision: 0.9475 - val_Recall: 0.9146 - val_accuracy: 0.9241 - val_auc: 0.9816 - val_loss: 0.2489\n",
      "Epoch 24/70\n",
      "\u001b[1m40/40\u001b[0m \u001b[32m━━━━━━━━━━━━━━━━━━━━\u001b[0m\u001b[37m\u001b[0m \u001b[1m6s\u001b[0m 146ms/step - Precision: 0.9456 - Recall: 0.9403 - accuracy: 0.9441 - auc: 0.9920 - loss: 0.1613 - val_Precision: 0.9416 - val_Recall: 0.9177 - val_accuracy: 0.9304 - val_auc: 0.9817 - val_loss: 0.2492\n",
      "Epoch 25/70\n",
      "\u001b[1m40/40\u001b[0m \u001b[32m━━━━━━━━━━━━━━━━━━━━\u001b[0m\u001b[37m\u001b[0m \u001b[1m6s\u001b[0m 147ms/step - Precision: 0.9433 - Recall: 0.9369 - accuracy: 0.9395 - auc: 0.9917 - loss: 0.1714 - val_Precision: 0.9387 - val_Recall: 0.9209 - val_accuracy: 0.9272 - val_auc: 0.9831 - val_loss: 0.2414\n",
      "Epoch 26/70\n",
      "\u001b[1m40/40\u001b[0m \u001b[32m━━━━━━━━━━━━━━━━━━━━\u001b[0m\u001b[37m\u001b[0m \u001b[1m6s\u001b[0m 147ms/step - Precision: 0.9457 - Recall: 0.9387 - accuracy: 0.9432 - auc: 0.9924 - loss: 0.1652 - val_Precision: 0.9419 - val_Recall: 0.9241 - val_accuracy: 0.9304 - val_auc: 0.9844 - val_loss: 0.2244\n",
      "Epoch 27/70\n",
      "\u001b[1m40/40\u001b[0m \u001b[32m━━━━━━━━━━━━━━━━━━━━\u001b[0m\u001b[37m\u001b[0m \u001b[1m6s\u001b[0m 147ms/step - Precision: 0.9483 - Recall: 0.9397 - accuracy: 0.9459 - auc: 0.9922 - loss: 0.1580 - val_Precision: 0.9288 - val_Recall: 0.9082 - val_accuracy: 0.9209 - val_auc: 0.9846 - val_loss: 0.2555\n",
      "Epoch 28/70\n",
      "\u001b[1m40/40\u001b[0m \u001b[32m━━━━━━━━━━━━━━━━━━━━\u001b[0m\u001b[37m\u001b[0m \u001b[1m6s\u001b[0m 147ms/step - Precision: 0.9589 - Recall: 0.9509 - accuracy: 0.9561 - auc: 0.9924 - loss: 0.1506 - val_Precision: 0.9448 - val_Recall: 0.9209 - val_accuracy: 0.9272 - val_auc: 0.9829 - val_loss: 0.2304\n",
      "Epoch 29/70\n",
      "\u001b[1m40/40\u001b[0m \u001b[32m━━━━━━━━━━━━━━━━━━━━\u001b[0m\u001b[37m\u001b[0m \u001b[1m6s\u001b[0m 147ms/step - Precision: 0.9486 - Recall: 0.9418 - accuracy: 0.9451 - auc: 0.9929 - loss: 0.1531 - val_Precision: 0.9137 - val_Recall: 0.9051 - val_accuracy: 0.9082 - val_auc: 0.9837 - val_loss: 0.2380\n",
      "Epoch 30/70\n",
      "\u001b[1m40/40\u001b[0m \u001b[32m━━━━━━━━━━━━━━━━━━━━\u001b[0m\u001b[37m\u001b[0m \u001b[1m6s\u001b[0m 147ms/step - Precision: 0.9348 - Recall: 0.9245 - accuracy: 0.9300 - auc: 0.9856 - loss: 0.2155 - val_Precision: 0.9385 - val_Recall: 0.9177 - val_accuracy: 0.9209 - val_auc: 0.9802 - val_loss: 0.2388\n",
      "Epoch 31/70\n",
      "\u001b[1m40/40\u001b[0m \u001b[32m━━━━━━━━━━━━━━━━━━━━\u001b[0m\u001b[37m\u001b[0m \u001b[1m6s\u001b[0m 146ms/step - Precision: 0.9655 - Recall: 0.9591 - accuracy: 0.9611 - auc: 0.9949 - loss: 0.1271 - val_Precision: 0.9387 - val_Recall: 0.9209 - val_accuracy: 0.9241 - val_auc: 0.9822 - val_loss: 0.2416\n",
      "Epoch 32/70\n",
      "\u001b[1m40/40\u001b[0m \u001b[32m━━━━━━━━━━━━━━━━━━━━\u001b[0m\u001b[37m\u001b[0m \u001b[1m6s\u001b[0m 146ms/step - Precision: 0.9515 - Recall: 0.9414 - accuracy: 0.9480 - auc: 0.9934 - loss: 0.1445 - val_Precision: 0.9387 - val_Recall: 0.9209 - val_accuracy: 0.9241 - val_auc: 0.9865 - val_loss: 0.2141\n",
      "Epoch 33/70\n",
      "\u001b[1m40/40\u001b[0m \u001b[32m━━━━━━━━━━━━━━━━━━━━\u001b[0m\u001b[37m\u001b[0m \u001b[1m6s\u001b[0m 147ms/step - Precision: 0.9582 - Recall: 0.9534 - accuracy: 0.9570 - auc: 0.9953 - loss: 0.1213 - val_Precision: 0.9333 - val_Recall: 0.9304 - val_accuracy: 0.9335 - val_auc: 0.9857 - val_loss: 0.2196\n",
      "Epoch 34/70\n",
      "\u001b[1m40/40\u001b[0m \u001b[32m━━━━━━━━━━━━━━━━━━━━\u001b[0m\u001b[37m\u001b[0m \u001b[1m6s\u001b[0m 147ms/step - Precision: 0.9623 - Recall: 0.9552 - accuracy: 0.9552 - auc: 0.9965 - loss: 0.1126 - val_Precision: 0.9265 - val_Recall: 0.9177 - val_accuracy: 0.9241 - val_auc: 0.9820 - val_loss: 0.2363\n",
      "Epoch 35/70\n",
      "\u001b[1m40/40\u001b[0m \u001b[32m━━━━━━━━━━━━━━━━━━━━\u001b[0m\u001b[37m\u001b[0m \u001b[1m6s\u001b[0m 147ms/step - Precision: 0.9620 - Recall: 0.9580 - accuracy: 0.9610 - auc: 0.9961 - loss: 0.1174 - val_Precision: 0.9361 - val_Recall: 0.9272 - val_accuracy: 0.9304 - val_auc: 0.9858 - val_loss: 0.2190\n",
      "Epoch 36/70\n",
      "\u001b[1m40/40\u001b[0m \u001b[32m━━━━━━━━━━━━━━━━━━━━\u001b[0m\u001b[37m\u001b[0m \u001b[1m6s\u001b[0m 156ms/step - Precision: 0.9688 - Recall: 0.9636 - accuracy: 0.9676 - auc: 0.9950 - loss: 0.1147 - val_Precision: 0.9073 - val_Recall: 0.8987 - val_accuracy: 0.9051 - val_auc: 0.9806 - val_loss: 0.2624\n",
      "Epoch 37/70\n",
      "\u001b[1m40/40\u001b[0m \u001b[32m━━━━━━━━━━━━━━━━━━━━\u001b[0m\u001b[37m\u001b[0m \u001b[1m6s\u001b[0m 156ms/step - Precision: 0.9521 - Recall: 0.9410 - accuracy: 0.9468 - auc: 0.9951 - loss: 0.1375 - val_Precision: 0.9231 - val_Recall: 0.9114 - val_accuracy: 0.9146 - val_auc: 0.9857 - val_loss: 0.2169\n",
      "Epoch 38/70\n",
      "\u001b[1m40/40\u001b[0m \u001b[32m━━━━━━━━━━━━━━━━━━━━\u001b[0m\u001b[37m\u001b[0m \u001b[1m6s\u001b[0m 152ms/step - Precision: 0.9584 - Recall: 0.9570 - accuracy: 0.9572 - auc: 0.9932 - loss: 0.1435 - val_Precision: 0.9387 - val_Recall: 0.9209 - val_accuracy: 0.9335 - val_auc: 0.9829 - val_loss: 0.2284\n",
      "Epoch 39/70\n",
      "\u001b[1m40/40\u001b[0m \u001b[32m━━━━━━━━━━━━━━━━━━━━\u001b[0m\u001b[37m\u001b[0m \u001b[1m6s\u001b[0m 152ms/step - Precision: 0.9535 - Recall: 0.9508 - accuracy: 0.9520 - auc: 0.9943 - loss: 0.1398 - val_Precision: 0.9489 - val_Recall: 0.9399 - val_accuracy: 0.9462 - val_auc: 0.9855 - val_loss: 0.2082\n",
      "Epoch 40/70\n",
      "\u001b[1m40/40\u001b[0m \u001b[32m━━━━━━━━━━━━━━━━━━━━\u001b[0m\u001b[37m\u001b[0m \u001b[1m6s\u001b[0m 153ms/step - Precision: 0.9717 - Recall: 0.9693 - accuracy: 0.9713 - auc: 0.9977 - loss: 0.0889 - val_Precision: 0.9484 - val_Recall: 0.9304 - val_accuracy: 0.9304 - val_auc: 0.9823 - val_loss: 0.2133\n",
      "Epoch 41/70\n",
      "\u001b[1m40/40\u001b[0m \u001b[32m━━━━━━━━━━━━━━━━━━━━\u001b[0m\u001b[37m\u001b[0m \u001b[1m7s\u001b[0m 178ms/step - Precision: 0.9611 - Recall: 0.9587 - accuracy: 0.9599 - auc: 0.9968 - loss: 0.1051 - val_Precision: 0.9487 - val_Recall: 0.9367 - val_accuracy: 0.9462 - val_auc: 0.9844 - val_loss: 0.2161\n",
      "Epoch 42/70\n",
      "\u001b[1m40/40\u001b[0m \u001b[32m━━━━━━━━━━━━━━━━━━━━\u001b[0m\u001b[37m\u001b[0m \u001b[1m6s\u001b[0m 148ms/step - Precision: 0.9704 - Recall: 0.9653 - accuracy: 0.9673 - auc: 0.9963 - loss: 0.1009 - val_Precision: 0.9395 - val_Recall: 0.9335 - val_accuracy: 0.9367 - val_auc: 0.9815 - val_loss: 0.2321\n",
      "Epoch 43/70\n",
      "\u001b[1m40/40\u001b[0m \u001b[32m━━━━━━━━━━━━━━━━━━━━\u001b[0m\u001b[37m\u001b[0m \u001b[1m6s\u001b[0m 148ms/step - Precision: 0.9597 - Recall: 0.9484 - accuracy: 0.9521 - auc: 0.9948 - loss: 0.1272 - val_Precision: 0.9327 - val_Recall: 0.9209 - val_accuracy: 0.9335 - val_auc: 0.9832 - val_loss: 0.2262\n",
      "Epoch 44/70\n",
      "\u001b[1m40/40\u001b[0m \u001b[32m━━━━━━━━━━━━━━━━━━━━\u001b[0m\u001b[37m\u001b[0m \u001b[1m6s\u001b[0m 147ms/step - Precision: 0.9574 - Recall: 0.9491 - accuracy: 0.9533 - auc: 0.9960 - loss: 0.1153 - val_Precision: 0.9333 - val_Recall: 0.9304 - val_accuracy: 0.9304 - val_auc: 0.9844 - val_loss: 0.2273\n",
      "Epoch 45/70\n",
      "\u001b[1m40/40\u001b[0m \u001b[32m━━━━━━━━━━━━━━━━━━━━\u001b[0m\u001b[37m\u001b[0m \u001b[1m6s\u001b[0m 149ms/step - Precision: 0.9706 - Recall: 0.9698 - accuracy: 0.9700 - auc: 0.9971 - loss: 0.0951 - val_Precision: 0.9270 - val_Recall: 0.9241 - val_accuracy: 0.9241 - val_auc: 0.9843 - val_loss: 0.2331\n",
      "Epoch 46/70\n",
      "\u001b[1m40/40\u001b[0m \u001b[32m━━━━━━━━━━━━━━━━━━━━\u001b[0m\u001b[37m\u001b[0m \u001b[1m6s\u001b[0m 149ms/step - Precision: 0.9635 - Recall: 0.9610 - accuracy: 0.9621 - auc: 0.9951 - loss: 0.1136 - val_Precision: 0.9399 - val_Recall: 0.9399 - val_accuracy: 0.9399 - val_auc: 0.9866 - val_loss: 0.1921\n",
      "Epoch 47/70\n",
      "\u001b[1m40/40\u001b[0m \u001b[32m━━━━━━━━━━━━━━━━━━━━\u001b[0m\u001b[37m\u001b[0m \u001b[1m6s\u001b[0m 147ms/step - Precision: 0.9771 - Recall: 0.9739 - accuracy: 0.9756 - auc: 0.9982 - loss: 0.0760 - val_Precision: 0.9302 - val_Recall: 0.9272 - val_accuracy: 0.9272 - val_auc: 0.9879 - val_loss: 0.2069\n",
      "Epoch 48/70\n",
      "\u001b[1m40/40\u001b[0m \u001b[32m━━━━━━━━━━━━━━━━━━━━\u001b[0m\u001b[37m\u001b[0m \u001b[1m6s\u001b[0m 148ms/step - Precision: 0.9683 - Recall: 0.9608 - accuracy: 0.9612 - auc: 0.9947 - loss: 0.1050 - val_Precision: 0.9489 - val_Recall: 0.9399 - val_accuracy: 0.9462 - val_auc: 0.9829 - val_loss: 0.2226\n",
      "Epoch 49/70\n",
      "\u001b[1m40/40\u001b[0m \u001b[32m━━━━━━━━━━━━━━━━━━━━\u001b[0m\u001b[37m\u001b[0m \u001b[1m6s\u001b[0m 148ms/step - Precision: 0.9679 - Recall: 0.9679 - accuracy: 0.9679 - auc: 0.9981 - loss: 0.0783 - val_Precision: 0.9304 - val_Recall: 0.9304 - val_accuracy: 0.9304 - val_auc: 0.9840 - val_loss: 0.2350\n",
      "Epoch 50/70\n",
      "\u001b[1m40/40\u001b[0m \u001b[32m━━━━━━━━━━━━━━━━━━━━\u001b[0m\u001b[37m\u001b[0m \u001b[1m6s\u001b[0m 149ms/step - Precision: 0.9723 - Recall: 0.9702 - accuracy: 0.9712 - auc: 0.9983 - loss: 0.0781 - val_Precision: 0.9522 - val_Recall: 0.9462 - val_accuracy: 0.9494 - val_auc: 0.9879 - val_loss: 0.1781\n",
      "Epoch 51/70\n",
      "\u001b[1m40/40\u001b[0m \u001b[32m━━━━━━━━━━━━━━━━━━━━\u001b[0m\u001b[37m\u001b[0m \u001b[1m6s\u001b[0m 147ms/step - Precision: 0.9717 - Recall: 0.9697 - accuracy: 0.9714 - auc: 0.9986 - loss: 0.0681 - val_Precision: 0.9335 - val_Recall: 0.9335 - val_accuracy: 0.9335 - val_auc: 0.9815 - val_loss: 0.2410\n",
      "Epoch 52/70\n",
      "\u001b[1m40/40\u001b[0m \u001b[32m━━━━━━━━━━━━━━━━━━━━\u001b[0m\u001b[37m\u001b[0m \u001b[1m6s\u001b[0m 148ms/step - Precision: 0.9706 - Recall: 0.9679 - accuracy: 0.9699 - auc: 0.9969 - loss: 0.0959 - val_Precision: 0.9489 - val_Recall: 0.9399 - val_accuracy: 0.9494 - val_auc: 0.9848 - val_loss: 0.1986\n",
      "Epoch 53/70\n",
      "\u001b[1m40/40\u001b[0m \u001b[32m━━━━━━━━━━━━━━━━━━━━\u001b[0m\u001b[37m\u001b[0m \u001b[1m6s\u001b[0m 160ms/step - Precision: 0.9665 - Recall: 0.9598 - accuracy: 0.9615 - auc: 0.9966 - loss: 0.1025 - val_Precision: 0.9524 - val_Recall: 0.9494 - val_accuracy: 0.9525 - val_auc: 0.9830 - val_loss: 0.1952\n",
      "Epoch 54/70\n",
      "\u001b[1m40/40\u001b[0m \u001b[32m━━━━━━━━━━━━━━━━━━━━\u001b[0m\u001b[37m\u001b[0m \u001b[1m6s\u001b[0m 153ms/step - Precision: 0.9689 - Recall: 0.9647 - accuracy: 0.9661 - auc: 0.9973 - loss: 0.0936 - val_Precision: 0.9460 - val_Recall: 0.9430 - val_accuracy: 0.9462 - val_auc: 0.9816 - val_loss: 0.2207\n",
      "Epoch 55/70\n",
      "\u001b[1m40/40\u001b[0m \u001b[32m━━━━━━━━━━━━━━━━━━━━\u001b[0m\u001b[37m\u001b[0m \u001b[1m6s\u001b[0m 147ms/step - Precision: 0.9757 - Recall: 0.9689 - accuracy: 0.9747 - auc: 0.9982 - loss: 0.0738 - val_Precision: 0.9365 - val_Recall: 0.9335 - val_accuracy: 0.9367 - val_auc: 0.9842 - val_loss: 0.2176\n",
      "Epoch 56/70\n",
      "\u001b[1m40/40\u001b[0m \u001b[32m━━━━━━━━━━━━━━━━━━━━\u001b[0m\u001b[37m\u001b[0m \u001b[1m6s\u001b[0m 159ms/step - Precision: 0.9882 - Recall: 0.9850 - accuracy: 0.9883 - auc: 0.9996 - loss: 0.0368 - val_Precision: 0.9430 - val_Recall: 0.9430 - val_accuracy: 0.9430 - val_auc: 0.9857 - val_loss: 0.2022\n",
      "Epoch 57/70\n",
      "\u001b[1m40/40\u001b[0m \u001b[32m━━━━━━━━━━━━━━━━━━━━\u001b[0m\u001b[37m\u001b[0m \u001b[1m6s\u001b[0m 148ms/step - Precision: 0.9795 - Recall: 0.9790 - accuracy: 0.9790 - auc: 0.9979 - loss: 0.0622 - val_Precision: 0.9265 - val_Recall: 0.9177 - val_accuracy: 0.9177 - val_auc: 0.9838 - val_loss: 0.2244\n",
      "Epoch 58/70\n",
      "\u001b[1m40/40\u001b[0m \u001b[32m━━━━━━━━━━━━━━━━━━━━\u001b[0m\u001b[37m\u001b[0m \u001b[1m7s\u001b[0m 163ms/step - Precision: 0.9842 - Recall: 0.9837 - accuracy: 0.9842 - auc: 0.9989 - loss: 0.0523 - val_Precision: 0.9270 - val_Recall: 0.9241 - val_accuracy: 0.9241 - val_auc: 0.9789 - val_loss: 0.2553\n",
      "Epoch 59/70\n",
      "\u001b[1m40/40\u001b[0m \u001b[32m━━━━━━━━━━━━━━━━━━━━\u001b[0m\u001b[37m\u001b[0m \u001b[1m6s\u001b[0m 149ms/step - Precision: 0.9632 - Recall: 0.9620 - accuracy: 0.9624 - auc: 0.9977 - loss: 0.0793 - val_Precision: 0.9231 - val_Recall: 0.9114 - val_accuracy: 0.9177 - val_auc: 0.9817 - val_loss: 0.2571\n",
      "Epoch 60/70\n",
      "\u001b[1m40/40\u001b[0m \u001b[32m━━━━━━━━━━━━━━━━━━━━\u001b[0m\u001b[37m\u001b[0m \u001b[1m6s\u001b[0m 146ms/step - Precision: 0.9569 - Recall: 0.9550 - accuracy: 0.9570 - auc: 0.9852 - loss: 0.1904 - val_Precision: 0.9521 - val_Recall: 0.9430 - val_accuracy: 0.9494 - val_auc: 0.9843 - val_loss: 0.2232\n",
      "Epoch 61/70\n",
      "\u001b[1m40/40\u001b[0m \u001b[32m━━━━━━━━━━━━━━━━━━━━\u001b[0m\u001b[37m\u001b[0m \u001b[1m6s\u001b[0m 147ms/step - Precision: 0.9706 - Recall: 0.9699 - accuracy: 0.9703 - auc: 0.9987 - loss: 0.0678 - val_Precision: 0.9522 - val_Recall: 0.9462 - val_accuracy: 0.9494 - val_auc: 0.9814 - val_loss: 0.2311\n",
      "Epoch 62/70\n",
      "\u001b[1m40/40\u001b[0m \u001b[32m━━━━━━━━━━━━━━━━━━━━\u001b[0m\u001b[37m\u001b[0m \u001b[1m6s\u001b[0m 146ms/step - Precision: 0.9829 - Recall: 0.9816 - accuracy: 0.9826 - auc: 0.9986 - loss: 0.0560 - val_Precision: 0.9397 - val_Recall: 0.9367 - val_accuracy: 0.9399 - val_auc: 0.9834 - val_loss: 0.2454\n",
      "Epoch 63/70\n",
      "\u001b[1m40/40\u001b[0m \u001b[32m━━━━━━━━━━━━━━━━━━━━\u001b[0m\u001b[37m\u001b[0m \u001b[1m6s\u001b[0m 146ms/step - Precision: 0.9843 - Recall: 0.9843 - accuracy: 0.9843 - auc: 0.9975 - loss: 0.0575 - val_Precision: 0.9429 - val_Recall: 0.9399 - val_accuracy: 0.9399 - val_auc: 0.9870 - val_loss: 0.2042\n",
      "Epoch 64/70\n",
      "\u001b[1m40/40\u001b[0m \u001b[32m━━━━━━━━━━━━━━━━━━━━\u001b[0m\u001b[37m\u001b[0m \u001b[1m6s\u001b[0m 148ms/step - Precision: 0.9877 - Recall: 0.9877 - accuracy: 0.9877 - auc: 0.9998 - loss: 0.0282 - val_Precision: 0.9430 - val_Recall: 0.9430 - val_accuracy: 0.9430 - val_auc: 0.9841 - val_loss: 0.2104\n",
      "Epoch 65/70\n",
      "\u001b[1m40/40\u001b[0m \u001b[32m━━━━━━━━━━━━━━━━━━━━\u001b[0m\u001b[37m\u001b[0m \u001b[1m6s\u001b[0m 146ms/step - Precision: 0.9858 - Recall: 0.9822 - accuracy: 0.9850 - auc: 0.9996 - loss: 0.0355 - val_Precision: 0.9489 - val_Recall: 0.9399 - val_accuracy: 0.9494 - val_auc: 0.9819 - val_loss: 0.2303\n",
      "Epoch 66/70\n",
      "\u001b[1m40/40\u001b[0m \u001b[32m━━━━━━━━━━━━━━━━━━━━\u001b[0m\u001b[37m\u001b[0m \u001b[1m6s\u001b[0m 148ms/step - Precision: 0.9850 - Recall: 0.9837 - accuracy: 0.9850 - auc: 0.9993 - loss: 0.0436 - val_Precision: 0.9460 - val_Recall: 0.9430 - val_accuracy: 0.9430 - val_auc: 0.9830 - val_loss: 0.2372\n",
      "Epoch 67/70\n",
      "\u001b[1m40/40\u001b[0m \u001b[32m━━━━━━━━━━━━━━━━━━━━\u001b[0m\u001b[37m\u001b[0m \u001b[1m6s\u001b[0m 153ms/step - Precision: 0.9864 - Recall: 0.9846 - accuracy: 0.9865 - auc: 0.9991 - loss: 0.0448 - val_Precision: 0.9397 - val_Recall: 0.9367 - val_accuracy: 0.9367 - val_auc: 0.9842 - val_loss: 0.2633\n",
      "Epoch 68/70\n",
      "\u001b[1m40/40\u001b[0m \u001b[32m━━━━━━━━━━━━━━━━━━━━\u001b[0m\u001b[37m\u001b[0m \u001b[1m6s\u001b[0m 146ms/step - Precision: 0.9676 - Recall: 0.9648 - accuracy: 0.9667 - auc: 0.9985 - loss: 0.0710 - val_Precision: 0.9329 - val_Recall: 0.9241 - val_accuracy: 0.9241 - val_auc: 0.9874 - val_loss: 0.2175\n",
      "Epoch 69/70\n",
      "\u001b[1m40/40\u001b[0m \u001b[32m━━━━━━━━━━━━━━━━━━━━\u001b[0m\u001b[37m\u001b[0m \u001b[1m6s\u001b[0m 147ms/step - Precision: 0.9839 - Recall: 0.9826 - accuracy: 0.9839 - auc: 0.9996 - loss: 0.0382 - val_Precision: 0.9492 - val_Recall: 0.9462 - val_accuracy: 0.9494 - val_auc: 0.9869 - val_loss: 0.1955\n",
      "Epoch 70/70\n",
      "\u001b[1m40/40\u001b[0m \u001b[32m━━━━━━━━━━━━━━━━━━━━\u001b[0m\u001b[37m\u001b[0m \u001b[1m6s\u001b[0m 146ms/step - Precision: 0.9938 - Recall: 0.9932 - accuracy: 0.9938 - auc: 0.9996 - loss: 0.0246 - val_Precision: 0.9460 - val_Recall: 0.9430 - val_accuracy: 0.9462 - val_auc: 0.9839 - val_loss: 0.2213\n",
      "\u001b[1m22/22\u001b[0m \u001b[32m━━━━━━━━━━━━━━━━━━━━\u001b[0m\u001b[37m\u001b[0m \u001b[1m1s\u001b[0m 43ms/step - Precision: 0.9586 - Recall: 0.9557 - accuracy: 0.9557 - auc: 0.9933 - loss: 0.1454\n",
      "Test Accuracy:96.30%\n",
      "Test Loss:12.75%\n"
     ]
    },
    {
     "data": {
      "image/png": "[encoded data removed]",
      "text/plain": [
       "<Figure size 640x480 with 1 Axes>"
      ]
     },
     "metadata": {},
     "output_type": "display_data"
    }
   ],
   "source": [
    "checkpoint=tf.keras.callbacks.ModelCheckpoint('best_model.keras',monitor='val_accuracy',save_best_only=True,mode='max')\n",
    "history=model.fit([X_mfcc_train,X_melspec_train],y_train,validation_data=([X_mfcc_val,X_melspec_val],y_val),epochs=70,batch_size=32,callbacks=[checkpoint])\n",
    "model.load_weights('best_model.keras')\n",
    "results=model.evaluate([X_mfcc_test,X_melspec_test],y_test)\n",
    "test_loss,test_accuracy=results[0],results[1]\n",
    "print(f'Test Accuracy:{test_accuracy*100:.2f}%')\n",
    "print(f'Test Loss:{test_loss*100:.2f}%')\n",
    "\n",
    "\n",
    "#Plot training & validation accuracy values\n",
    "plt.plot(history.history['accuracy'], label='Training Accuracy')\n",
    "plt.plot(history.history['val_accuracy'], label='Validation Accuracy')\n",
    "\n",
    "# Adding labels and title\n",
    "plt.title('Model Accuracy vs Epochs')\n",
    "plt.ylabel('Accuracy')\n",
    "plt.xlabel('Epochs')\n",
    "plt.legend(loc='upper left')\n",
    "\n",
    "epochs = len(history.history['accuracy'])\n",
    "plt.xticks(np.arange(0, epochs+1, 10))  # Scale of 10 on x-axis\n",
    "\n",
    "\n",
    "# Display the plot\n",
    "plt.show()"
   ]
  },
  {
   "cell_type": "code",
   "execution_count": 1,
   "metadata": {},
   "outputs": [
    {
     "ename": "NameError",
     "evalue": "name 'results' is not defined",
     "output_type": "error",
     "traceback": [
      "\u001b[1;31m---------------------------------------------------------------------------\u001b[0m",
      "\u001b[1;31mNameError\u001b[0m                                 Traceback (most recent call last)",
      "Cell \u001b[1;32mIn[1], line 1\u001b[0m\n\u001b[1;32m----> 1\u001b[0m \u001b[43mresults\u001b[49m\n",
      "\u001b[1;31mNameError\u001b[0m: name 'results' is not defined"
     ]
    }
   ],
   "source": [
    "results"
   ]
  },
  {
   "cell_type": "code",
   "execution_count": 45,
   "metadata": {},
   "outputs": [],
   "source": [
    "# predictions=model.predict([mfcc_ex,melspec_ex])\n",
    "# predicted_class=np.argmax(predictions,axis=1)\n",
    "# print(predicted_class[0])"
   ]
  },
  {
   "cell_type": "code",
   "execution_count": null,
   "metadata": {},
   "outputs": [],
   "source": []
  }
 ],
 "metadata": {
  "kernelspec": {
   "display_name": "Python 3",
   "language": "python",
   "name": "python3"
  },
  "language_info": {
   "codemirror_mode": {
    "name": "ipython",
    "version": 3
   },
   "file_extension": ".py",
   "mimetype": "text/x-python",
   "name": "python",
   "nbconvert_exporter": "python",
   "pygments_lexer": "ipython3",
   "version": "3.12.6"
  }
 },
 "nbformat": 4,
 "nbformat_minor": 2
}
