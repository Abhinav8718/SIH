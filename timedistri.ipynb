{
 "cells": [
  {
   "cell_type": "code",
   "execution_count": 1,
   "metadata": {},
   "outputs": [],
   "source": [
    "import os\n",
    "import librosa\n",
    "import numpy as np\n",
    "import tensorflow as tf\n",
    "from sklearn.model_selection import train_test_split\n",
    "from tensorflow.keras.utils import to_categorical\n",
    "from tensorflow.keras.callbacks import ModelCheckpoint, EarlyStopping\n",
    "import matplotlib.pyplot as plt\n",
    "from tensorflow.keras.layers import Bidirectional, LSTM ,Flatten ,Reshape"
   ]
  },
  {
   "cell_type": "code",
   "execution_count": 2,
   "metadata": {},
   "outputs": [],
   "source": [
    "SR=22050\n",
    "N_MFCC=40\n",
    "N_MELS=128\n",
    "DURATION=1\n",
    "SAMPLES_PER_TRACK=SR*DURATION\n",
    "CLASSES=['AssaultRifle','MachineGun','Noise']"
   ]
  },
  {
   "cell_type": "code",
   "execution_count": 3,
   "metadata": {},
   "outputs": [],
   "source": [
    "def extract_features(file_path):\n",
    "    y,sr=librosa.load(file_path,sr=SR,duration=DURATION)\n",
    "    if len(y)<SAMPLES_PER_TRACK:\n",
    "        y=np.pad(y,(0,SAMPLES_PER_TRACK-len(y)))\n",
    "    else:\n",
    "        y=y[:SAMPLES_PER_TRACK]\n",
    "    mfcc=librosa.feature.mfcc(y=y,sr=sr,n_mfcc=N_MFCC)\n",
    "    mfcc=librosa.util.fix_length(mfcc,size=174,axis=1)\n",
    "    mfcc=mfcc[...,np.newaxis]\n",
    "    mel_spec=librosa.feature.melspectrogram(y=y,sr=sr)\n",
    "    mel_spec=librosa.power_to_db(mel_spec,ref=np.max)\n",
    "    # plt.figure(figsize=(10,6))\n",
    "    # librosa.display.specshow(mel_spec,sr=SR,x_axis='time',y_axis='mel')\n",
    "    # plt.colorbar(format='%+2.0f dB')\n",
    "    # plt.title('Mel-Spectogram')\n",
    "    # plt.tight_layout()\n",
    "    # plt.show()\n",
    "    mel_spec=librosa.util.fix_length(mel_spec,size=174,axis=1)\n",
    "    mel_spec=mel_spec[...,np.newaxis]\n",
    "    return mfcc,mel_spec"
   ]
  },
  {
   "cell_type": "code",
   "execution_count": 4,
   "metadata": {},
   "outputs": [],
   "source": [
    "def load_dataset(dataset_path):\n",
    "    x_mfcc,x_melspec,y=[],[],[]\n",
    "    for i,class_name in enumerate(CLASSES):\n",
    "        class_dir=os.path.join(dataset_path,class_name)\n",
    "        for file_name in os.listdir(class_dir):\n",
    "            if file_name.endswith(\".wav\"):\n",
    "                file_path=os.path.join(class_dir,file_name)\n",
    "                mfcc,mel_spec=extract_features(file_path)\n",
    "                x_mfcc.append(mfcc)\n",
    "                x_melspec.append(mel_spec)\n",
    "                y.append(i)\n",
    "    x_mfcc=np.array(x_mfcc)\n",
    "    x_melspec=np.array(x_melspec)\n",
    "    y=to_categorical(y,num_classes=len(CLASSES))\n",
    "    return x_mfcc,x_melspec,y\n"
   ]
  },
  {
   "cell_type": "code",
   "execution_count": 5,
   "metadata": {},
   "outputs": [],
   "source": [
    "X_mfcc,X_melspec,y=load_dataset('new_dataset')"
   ]
  },
  {
   "cell_type": "code",
   "execution_count": 6,
   "metadata": {},
   "outputs": [
    {
     "data": {
      "text/plain": [
       "(2252, 40, 174, 1)"
      ]
     },
     "execution_count": 6,
     "metadata": {},
     "output_type": "execute_result"
    }
   ],
   "source": [
    "X_mfcc.shape"
   ]
  },
  {
   "cell_type": "code",
   "execution_count": 7,
   "metadata": {},
   "outputs": [],
   "source": [
    "X_mfcc_trainval, X_mfcc_test, X_melspec_trainval, X_melspec_test, y_trainval, y_test = train_test_split(\n",
    "    X_mfcc, X_melspec, y, test_size=0.3, random_state=2\n",
    ")\n",
    "\n",
    "# Then, split the training+validation set into training and validation sets\n",
    "X_mfcc_train, X_mfcc_val, X_melspec_train, X_melspec_val, y_train, y_val = train_test_split(\n",
    "    X_mfcc_trainval, X_melspec_trainval, y_trainval, test_size=0.2, random_state=2\n",
    ")"
   ]
  },
  {
   "cell_type": "code",
   "execution_count": 35,
   "metadata": {},
   "outputs": [
    {
     "name": "stdout",
     "output_type": "stream",
     "text": [
      "MFCC Input shape: (None, 174, 40, 1)\n"
     ]
    },
    {
     "ename": "ValueError",
     "evalue": "Kernel shape must have the same length as input, but received kernel of shape (3, 3, 1, 16) and input of shape (None, 40, 1).",
     "output_type": "error",
     "traceback": [
      "\u001b[1;31m---------------------------------------------------------------------------\u001b[0m",
      "\u001b[1;31mValueError\u001b[0m                                Traceback (most recent call last)",
      "Cell \u001b[1;32mIn[35], line 77\u001b[0m\n\u001b[0;32m     74\u001b[0m input_shape_melspec \u001b[38;5;241m=\u001b[39m (\u001b[38;5;241m128\u001b[39m, \u001b[38;5;241m174\u001b[39m)  \u001b[38;5;66;03m# Similarly for MelSpectrogram\u001b[39;00m\n\u001b[0;32m     76\u001b[0m \u001b[38;5;66;03m# Create the model\u001b[39;00m\n\u001b[1;32m---> 77\u001b[0m model \u001b[38;5;241m=\u001b[39m \u001b[43mcreate_model\u001b[49m\u001b[43m(\u001b[49m\u001b[43minput_shape_mfcc\u001b[49m\u001b[43m,\u001b[49m\u001b[43m \u001b[49m\u001b[43minput_shape_melspec\u001b[49m\u001b[43m,\u001b[49m\u001b[43m \u001b[49m\u001b[43mnum_classes\u001b[49m\u001b[38;5;241;43m=\u001b[39;49m\u001b[38;5;241;43m3\u001b[39;49m\u001b[43m)\u001b[49m\n\u001b[0;32m     78\u001b[0m model\u001b[38;5;241m.\u001b[39msummary()\n",
      "Cell \u001b[1;32mIn[35], line 10\u001b[0m, in \u001b[0;36mcreate_model\u001b[1;34m(input_shape_mfcc, input_shape_melspec, num_classes)\u001b[0m\n\u001b[0;32m      7\u001b[0m input_mfcc \u001b[38;5;241m=\u001b[39m Input(shape\u001b[38;5;241m=\u001b[39m(input_shape_mfcc[\u001b[38;5;241m1\u001b[39m], input_shape_mfcc[\u001b[38;5;241m0\u001b[39m], \u001b[38;5;241m1\u001b[39m), name\u001b[38;5;241m=\u001b[39m\u001b[38;5;124m'\u001b[39m\u001b[38;5;124mmfcc_input\u001b[39m\u001b[38;5;124m'\u001b[39m)  \u001b[38;5;66;03m# Shape: (timesteps, features, 1)\u001b[39;00m\n\u001b[0;32m      8\u001b[0m \u001b[38;5;28mprint\u001b[39m(\u001b[38;5;124m\"\u001b[39m\u001b[38;5;124mMFCC Input shape:\u001b[39m\u001b[38;5;124m\"\u001b[39m, input_mfcc\u001b[38;5;241m.\u001b[39mshape)\n\u001b[1;32m---> 10\u001b[0m x_mfcc \u001b[38;5;241m=\u001b[39m \u001b[43mTimeDistributed\u001b[49m\u001b[43m(\u001b[49m\u001b[43mConv2D\u001b[49m\u001b[43m(\u001b[49m\u001b[38;5;241;43m16\u001b[39;49m\u001b[43m,\u001b[49m\u001b[43m \u001b[49m\u001b[43mkernel_size\u001b[49m\u001b[38;5;241;43m=\u001b[39;49m\u001b[43m(\u001b[49m\u001b[38;5;241;43m3\u001b[39;49m\u001b[43m,\u001b[49m\u001b[43m \u001b[49m\u001b[38;5;241;43m3\u001b[39;49m\u001b[43m)\u001b[49m\u001b[43m,\u001b[49m\u001b[43m \u001b[49m\u001b[43mactivation\u001b[49m\u001b[38;5;241;43m=\u001b[39;49m\u001b[38;5;124;43m'\u001b[39;49m\u001b[38;5;124;43mrelu\u001b[39;49m\u001b[38;5;124;43m'\u001b[39;49m\u001b[43m)\u001b[49m\u001b[43m)\u001b[49m\u001b[43m(\u001b[49m\u001b[43minput_mfcc\u001b[49m\u001b[43m)\u001b[49m\n\u001b[0;32m     11\u001b[0m x_mfcc \u001b[38;5;241m=\u001b[39m TimeDistributed(MaxPooling2D(pool_size\u001b[38;5;241m=\u001b[39m(\u001b[38;5;241m2\u001b[39m, \u001b[38;5;241m2\u001b[39m)))(x_mfcc)\n\u001b[0;32m     12\u001b[0m x_mfcc \u001b[38;5;241m=\u001b[39m TimeDistributed(Dropout(\u001b[38;5;241m0.3\u001b[39m))(x_mfcc)\n",
      "File \u001b[1;32mc:\\Users\\abhin\\AppData\\Local\\Programs\\Python\\Python312\\Lib\\site-packages\\keras\\src\\utils\\traceback_utils.py:122\u001b[0m, in \u001b[0;36mfilter_traceback.<locals>.error_handler\u001b[1;34m(*args, **kwargs)\u001b[0m\n\u001b[0;32m    119\u001b[0m     filtered_tb \u001b[38;5;241m=\u001b[39m _process_traceback_frames(e\u001b[38;5;241m.\u001b[39m__traceback__)\n\u001b[0;32m    120\u001b[0m     \u001b[38;5;66;03m# To get the full stack trace, call:\u001b[39;00m\n\u001b[0;32m    121\u001b[0m     \u001b[38;5;66;03m# `keras.config.disable_traceback_filtering()`\u001b[39;00m\n\u001b[1;32m--> 122\u001b[0m     \u001b[38;5;28;01mraise\u001b[39;00m e\u001b[38;5;241m.\u001b[39mwith_traceback(filtered_tb) \u001b[38;5;28;01mfrom\u001b[39;00m \u001b[38;5;28;01mNone\u001b[39;00m\n\u001b[0;32m    123\u001b[0m \u001b[38;5;28;01mfinally\u001b[39;00m:\n\u001b[0;32m    124\u001b[0m     \u001b[38;5;28;01mdel\u001b[39;00m filtered_tb\n",
      "File \u001b[1;32mc:\\Users\\abhin\\AppData\\Local\\Programs\\Python\\Python312\\Lib\\site-packages\\keras\\src\\ops\\operation_utils.py:184\u001b[0m, in \u001b[0;36mcompute_conv_output_shape\u001b[1;34m(input_shape, filters, kernel_size, strides, padding, data_format, dilation_rate)\u001b[0m\n\u001b[0;32m    182\u001b[0m     kernel_shape \u001b[38;5;241m=\u001b[39m kernel_size \u001b[38;5;241m+\u001b[39m (input_shape[\u001b[38;5;241m1\u001b[39m], filters)\n\u001b[0;32m    183\u001b[0m \u001b[38;5;28;01mif\u001b[39;00m \u001b[38;5;28mlen\u001b[39m(kernel_shape) \u001b[38;5;241m!=\u001b[39m \u001b[38;5;28mlen\u001b[39m(input_shape):\n\u001b[1;32m--> 184\u001b[0m     \u001b[38;5;28;01mraise\u001b[39;00m \u001b[38;5;167;01mValueError\u001b[39;00m(\n\u001b[0;32m    185\u001b[0m         \u001b[38;5;124m\"\u001b[39m\u001b[38;5;124mKernel shape must have the same length as input, but received \u001b[39m\u001b[38;5;124m\"\u001b[39m\n\u001b[0;32m    186\u001b[0m         \u001b[38;5;124mf\u001b[39m\u001b[38;5;124m\"\u001b[39m\u001b[38;5;124mkernel of shape \u001b[39m\u001b[38;5;132;01m{\u001b[39;00mkernel_shape\u001b[38;5;132;01m}\u001b[39;00m\u001b[38;5;124m and \u001b[39m\u001b[38;5;124m\"\u001b[39m\n\u001b[0;32m    187\u001b[0m         \u001b[38;5;124mf\u001b[39m\u001b[38;5;124m\"\u001b[39m\u001b[38;5;124minput of shape \u001b[39m\u001b[38;5;132;01m{\u001b[39;00minput_shape\u001b[38;5;132;01m}\u001b[39;00m\u001b[38;5;124m.\u001b[39m\u001b[38;5;124m\"\u001b[39m\n\u001b[0;32m    188\u001b[0m     )\n\u001b[0;32m    189\u001b[0m \u001b[38;5;28;01mif\u001b[39;00m \u001b[38;5;28misinstance\u001b[39m(dilation_rate, \u001b[38;5;28mint\u001b[39m):\n\u001b[0;32m    190\u001b[0m     dilation_rate \u001b[38;5;241m=\u001b[39m (dilation_rate,) \u001b[38;5;241m*\u001b[39m \u001b[38;5;28mlen\u001b[39m(spatial_shape)\n",
      "\u001b[1;31mValueError\u001b[0m: Kernel shape must have the same length as input, but received kernel of shape (3, 3, 1, 16) and input of shape (None, 40, 1)."
     ]
    }
   ],
   "source": [
    "import tensorflow as tf\n",
    "from tensorflow.keras.layers import Conv2D, MaxPooling2D, Dropout, GlobalAveragePooling2D, Dense, Input, LSTM, Bidirectional, TimeDistributed\n",
    "from tensorflow.keras.models import Model\n",
    "\n",
    "def create_model(input_shape_mfcc, input_shape_melspec, num_classes=3):\n",
    "    # MFCC Input and layers\n",
    "    input_mfcc = Input(shape=(input_shape_mfcc[1], input_shape_mfcc[0], 1), name='mfcc_input')  # Shape: (timesteps, features, 1)\n",
    "    print(\"MFCC Input shape:\", input_mfcc.shape)\n",
    "\n",
    "    x_mfcc = TimeDistributed(Conv2D(16, kernel_size=(3, 3), activation='relu'))(input_mfcc)\n",
    "    x_mfcc = TimeDistributed(MaxPooling2D(pool_size=(2, 2)))(x_mfcc)\n",
    "    x_mfcc = TimeDistributed(Dropout(0.3))(x_mfcc)\n",
    "\n",
    "    x_mfcc = TimeDistributed(Conv2D(32, kernel_size=(3, 3), activation='relu'))(x_mfcc)\n",
    "    x_mfcc = TimeDistributed(MaxPooling2D(pool_size=(2, 2)))(x_mfcc)\n",
    "    x_mfcc = TimeDistributed(Dropout(0.3))(x_mfcc)\n",
    "\n",
    "    x_mfcc = TimeDistributed(Conv2D(64, kernel_size=(3, 3), activation='relu'))(x_mfcc)\n",
    "    x_mfcc = TimeDistributed(MaxPooling2D(pool_size=(1, 2)))(x_mfcc)\n",
    "    x_mfcc = TimeDistributed(Dropout(0.3))(x_mfcc)\n",
    "\n",
    "    x_mfcc = TimeDistributed(Conv2D(128, kernel_size=(3, 3), activation='relu'))(x_mfcc)\n",
    "    x_mfcc = TimeDistributed(MaxPooling2D(pool_size=(2, 2)))(x_mfcc)\n",
    "    x_mfcc = TimeDistributed(Dropout(0.3))(x_mfcc)\n",
    "\n",
    "    x_mfcc = TimeDistributed(GlobalAveragePooling2D())(x_mfcc)\n",
    "    print(\"MFCC TimeDistributed output shape:\", x_mfcc.shape)\n",
    "\n",
    "    # MelSpectrogram Input and layers\n",
    "    input_melspec = Input(shape=(input_shape_melspec[1], input_shape_melspec[0], 1), name='melspec_input')  # Shape: (timesteps, features, 1)\n",
    "    print(\"MelSpec Input shape:\", input_melspec.shape)\n",
    "\n",
    "    x_melspec = TimeDistributed(Conv2D(16, kernel_size=(3, 3), activation='relu'))(input_melspec)\n",
    "    x_melspec = TimeDistributed(MaxPooling2D(pool_size=(2, 2)))(x_melspec)\n",
    "    x_melspec = TimeDistributed(Dropout(0.3))(x_melspec)\n",
    "\n",
    "    x_melspec = TimeDistributed(Conv2D(32, kernel_size=(3, 3), activation='relu'))(x_melspec)\n",
    "    x_melspec = TimeDistributed(MaxPooling2D(pool_size=(2, 2)))(x_melspec)\n",
    "    x_melspec = TimeDistributed(Dropout(0.3))(x_melspec)\n",
    "\n",
    "    x_melspec = TimeDistributed(Conv2D(64, kernel_size=(3, 3), activation='relu'))(x_melspec)\n",
    "    x_melspec = TimeDistributed(MaxPooling2D(pool_size=(2, 2)))(x_melspec)\n",
    "    x_melspec = TimeDistributed(Dropout(0.3))(x_melspec)\n",
    "\n",
    "    x_melspec = TimeDistributed(Conv2D(128, kernel_size=(3, 3), activation='relu'))(x_melspec)\n",
    "    x_melspec = TimeDistributed(MaxPooling2D(pool_size=(2, 2)))(x_melspec)\n",
    "    x_melspec = TimeDistributed(Dropout(0.3))(x_melspec)\n",
    "\n",
    "    x_melspec = TimeDistributed(GlobalAveragePooling2D())(x_melspec)\n",
    "    print(\"MelSpec TimeDistributed output shape:\", x_melspec.shape)\n",
    "\n",
    "    # Ensure both sequences are of the same length for concatenation\n",
    "    if x_mfcc.shape[1] != x_melspec.shape[1]:\n",
    "        min_length = min(x_mfcc.shape[1], x_melspec.shape[1])\n",
    "        x_mfcc = x_mfcc[:, :min_length, :]\n",
    "        x_melspec = x_melspec[:, :min_length, :]\n",
    "    print(\"After length adjustment - MFCC:\", x_mfcc.shape, \", MelSpec:\", x_melspec.shape)\n",
    "\n",
    "    # Concatenate the outputs of both branches\n",
    "    concatenated = tf.keras.layers.concatenate([x_mfcc, x_melspec])\n",
    "    print(\"Concatenated shape:\", concatenated.shape)\n",
    "\n",
    "    # BiLSTM Layer\n",
    "    x = Bidirectional(LSTM(128, return_sequences=False))(concatenated)\n",
    "    x = Dense(64, activation='relu')(x)\n",
    "    x = Dropout(0.3)(x)\n",
    "    output = Dense(num_classes, activation='softmax')(x)\n",
    "\n",
    "    model = Model(inputs=[input_mfcc, input_melspec], outputs=output)\n",
    "    return model\n",
    "\n",
    "# Define the input shapes\n",
    "input_shape_mfcc = (40, 174)   # Shape updated to reflect correct dimensions\n",
    "input_shape_melspec = (128, 174)  # Similarly for MelSpectrogram\n",
    "\n",
    "# Create the model\n",
    "model = create_model(input_shape_mfcc, input_shape_melspec, num_classes=3)\n",
    "model.summary()\n"
   ]
  },
  {
   "cell_type": "code",
   "execution_count": 32,
   "metadata": {},
   "outputs": [],
   "source": [
    "#import tensorflow as tf\n",
    "#from tensorflow.keras.layers import Conv2D,MaxPooling2D,Dropout,GlobalAveragePooling2D,Dense,Input,GlobalAveragePooling1D\n",
    "#from tensorflow.keras.models import Model\n",
    "#from tensorflow.keras.layers import TimeDistributed\n",
    "#def create_model(input_shape_mfcc,input_shape_melspec,num_classes=3):\n",
    "#    #input_mfcc=Input(shape=input_shape_mfcc,name='mfcc_input')\n",
    "#    #x_mfcc =Reshape((*input_shape_mfcc, 1))(input_mfcc)\n",
    "#    #x_mfcc = Reshape((input_shape_mfcc[0], input_shape_mfcc[1], 1))(input_mfcc)\n",
    "#    input_mfcc=Input(shape=(*input_shape_mfcc,1),name='mfcc_input')\n",
    "#\n",
    "#    x_mfcc=TimeDistributed(Conv2D(16,kernel_size=(3,3),activation='relu'))(input_mfcc)\n",
    "#    x_mfcc=TimeDistributed(MaxPooling2D(pool_size=(2,2)))(x_mfcc)\n",
    "#    x_mfcc=TimeDistributed(Dropout(0.3))(x_mfcc)\n",
    "#\n",
    "#    x_mfcc=TimeDistributed(Conv2D(32,kernel_size=(3,3),activation='relu'))(x_mfcc)\n",
    "#    x_mfcc=TimeDistributed(MaxPooling2D(pool_size=(2,2)))(x_mfcc)\n",
    "#    x_mfcc=TimeDistributed(Dropout(0.3))(x_mfcc)\n",
    "#\n",
    "#    x_mfcc=TimeDistributed(Conv2D(64,kernel_size=(3,3),activation='relu'))(x_mfcc)\n",
    "#    x_mfcc=TimeDistributed(MaxPooling2D(pool_size=(1,2)))(x_mfcc)\n",
    "#    x_mfcc=TimeDistributed(Dropout(0.3))(x_mfcc)\n",
    "#    \n",
    "#    x_mfcc=TimeDistributed(Conv2D(128,kernel_size=(3,3),activation='relu'))(x_mfcc)\n",
    "#    x_mfcc=TimeDistributed(MaxPooling2D(pool_size=(2,2)))(x_mfcc)\n",
    "#    x_mfcc=TimeDistributed(Dropout(0.3))(x_mfcc)\n",
    "#    \n",
    "#    x_mfcc=TimeDistributed(GlobalAveragePooling2D())(x_mfcc)\n",
    "#    #x_mfcc = Flatten()(x_mfcc)\n",
    "#    #x_mfcc = Reshape((x_mfcc.shape[1] * x_mfcc.shape[2], 128))(x_mfcc)\n",
    "#    #x_mfcc = TimeDistributed(Reshape((-1, x_mfcc.shape[-1])))(x_mfcc)\n",
    "#\n",
    "#    input_melspec=Input(shape=(*input_shape_melspec,1),name='melspec_input')\n",
    "#    #x_melspec =Reshape((*input_shape_melspec, 1))(input_melspec)\n",
    "#    #x_melspec = Reshape((input_shape_melspec[0], input_shape_melspec[1], 1))(input_melspec)\n",
    "#     \n",
    "#    \n",
    "#    x_melspec=TimeDistributed(Conv2D(16,kernel_size=(3,3),activation='relu'))(input_melspec)\n",
    "#    x_melspec=TimeDistributed(MaxPooling2D(pool_size=(2,2)))(x_melspec)\n",
    "#    x_melspec=TimeDistributed(Dropout(0.3))(x_melspec)\n",
    "#\n",
    "#    x_melspec=TimeDistributed(Conv2D(32,kernel_size=(3,3),activation='relu'))(x_melspec)\n",
    "#    x_melspec=TimeDistributed(MaxPooling2D(pool_size=(2,2)))(x_melspec)\n",
    "#    x_melspec=TimeDistributed(Dropout(0.3))(x_melspec)\n",
    "#\n",
    "#    x_melspec=TimeDistributed(Conv2D(64,kernel_size=(3,3),activation='relu'))(x_melspec)\n",
    "#    x_melspec=TimeDistributed(MaxPooling2D(pool_size=(2,2)))(x_melspec)\n",
    "#    x_melspec=TimeDistributed(Dropout(0.3))(x_melspec)\n",
    "#\n",
    "#    x_melspec=TimeDistributed(Conv2D(128,kernel_size=(3,3),activation='relu'))(x_melspec)\n",
    "#    x_melspec=TimeDistributed(MaxPooling2D(pool_size=(2,2)))(x_melspec)\n",
    "#    x_melspec=TimeDistributed(Dropout(0.3))(x_melspec)\n",
    "#\n",
    "#    x_melspec = TimeDistributed(GlobalAveragePooling2D())(x_melspec)\n",
    "#    #x_melspec =  Flatten()(x_melspec)\n",
    "#    #x_melspec = Reshape((x_melspec.shape[1] * x_melspec.shape[2], 40))(x_melspec)\n",
    "#    #x_melspec = TimeDistributed(Reshape((-1, x_melspec.shape[-1])))(x_melspec)\n",
    "#\n",
    "#    # Ensure both sequences are of the same length for concatenation\n",
    "#    if x_mfcc.shape[1] != x_melspec.shape[1]:\n",
    "#        min_length = min(x_mfcc.shape[1], x_melspec.shape[1])\n",
    "#        x_mfcc = x_mfcc[:, :min_length, :]\n",
    "#        x_melspec = x_melspec[:, :min_length, :]\n",
    "#        \n",
    "#    concatenated=tf.keras.layers.concatenate([x_mfcc,x_melspec])\n",
    "#\n",
    "#    x=Bidirectional(LSTM(128, return_sequences=False))(concatenated)\n",
    "#    #x = GlobalAveragePooling1D()(x)\n",
    "#    x=TimeDistributed(Dense(64,activation='relu'))(x)\n",
    "#    x=TimeDistributed(Dropout(0.3))(x)\n",
    "#    output=Dense(num_classes,activation='softmax')(x)\n",
    "#\n",
    "#    model=Model(inputs=[input_mfcc,input_melspec],outputs=output)\n",
    "#    return model"
   ]
  },
  {
   "cell_type": "code",
   "execution_count": 33,
   "metadata": {},
   "outputs": [
    {
     "name": "stdout",
     "output_type": "stream",
     "text": [
      "MFCC Input shape: (None, 174, 40, 1)\n"
     ]
    },
    {
     "ename": "ValueError",
     "evalue": "Kernel shape must have the same length as input, but received kernel of shape (3, 3, 1, 16) and input of shape (None, 40, 1).",
     "output_type": "error",
     "traceback": [
      "\u001b[1;31m---------------------------------------------------------------------------\u001b[0m",
      "\u001b[1;31mValueError\u001b[0m                                Traceback (most recent call last)",
      "Cell \u001b[1;32mIn[33], line 3\u001b[0m\n\u001b[0;32m      1\u001b[0m input_shape_mfcc\u001b[38;5;241m=\u001b[39m(\u001b[38;5;241m174\u001b[39m,\u001b[38;5;241m40\u001b[39m)\n\u001b[0;32m      2\u001b[0m input_shape_melspec\u001b[38;5;241m=\u001b[39m(\u001b[38;5;241m174\u001b[39m,\u001b[38;5;241m128\u001b[39m)\n\u001b[1;32m----> 3\u001b[0m model\u001b[38;5;241m=\u001b[39m\u001b[43mcreate_model\u001b[49m\u001b[43m(\u001b[49m\u001b[43minput_shape_mfcc\u001b[49m\u001b[43m,\u001b[49m\u001b[43minput_shape_melspec\u001b[49m\u001b[43m,\u001b[49m\u001b[43mnum_classes\u001b[49m\u001b[38;5;241;43m=\u001b[39;49m\u001b[38;5;241;43m3\u001b[39;49m\u001b[43m)\u001b[49m\n",
      "Cell \u001b[1;32mIn[31], line 11\u001b[0m, in \u001b[0;36mcreate_model\u001b[1;34m(input_shape_mfcc, input_shape_melspec, num_classes)\u001b[0m\n\u001b[0;32m      8\u001b[0m input_mfcc \u001b[38;5;241m=\u001b[39m Input(shape\u001b[38;5;241m=\u001b[39m(input_shape_mfcc[\u001b[38;5;241m0\u001b[39m], input_shape_mfcc[\u001b[38;5;241m1\u001b[39m], \u001b[38;5;241m1\u001b[39m), name\u001b[38;5;241m=\u001b[39m\u001b[38;5;124m'\u001b[39m\u001b[38;5;124mmfcc_input\u001b[39m\u001b[38;5;124m'\u001b[39m)  \u001b[38;5;66;03m# Shape: (timesteps, features, 1)\u001b[39;00m\n\u001b[0;32m      9\u001b[0m \u001b[38;5;28mprint\u001b[39m(\u001b[38;5;124m\"\u001b[39m\u001b[38;5;124mMFCC Input shape:\u001b[39m\u001b[38;5;124m\"\u001b[39m, input_mfcc\u001b[38;5;241m.\u001b[39mshape)\n\u001b[1;32m---> 11\u001b[0m x_mfcc \u001b[38;5;241m=\u001b[39m \u001b[43mTimeDistributed\u001b[49m\u001b[43m(\u001b[49m\u001b[43mConv2D\u001b[49m\u001b[43m(\u001b[49m\u001b[38;5;241;43m16\u001b[39;49m\u001b[43m,\u001b[49m\u001b[43m \u001b[49m\u001b[43mkernel_size\u001b[49m\u001b[38;5;241;43m=\u001b[39;49m\u001b[43m(\u001b[49m\u001b[38;5;241;43m3\u001b[39;49m\u001b[43m,\u001b[49m\u001b[43m \u001b[49m\u001b[38;5;241;43m3\u001b[39;49m\u001b[43m)\u001b[49m\u001b[43m,\u001b[49m\u001b[43m \u001b[49m\u001b[43mactivation\u001b[49m\u001b[38;5;241;43m=\u001b[39;49m\u001b[38;5;124;43m'\u001b[39;49m\u001b[38;5;124;43mrelu\u001b[39;49m\u001b[38;5;124;43m'\u001b[39;49m\u001b[43m)\u001b[49m\u001b[43m)\u001b[49m\u001b[43m(\u001b[49m\u001b[43minput_mfcc\u001b[49m\u001b[43m)\u001b[49m\n\u001b[0;32m     12\u001b[0m x_mfcc \u001b[38;5;241m=\u001b[39m TimeDistributed(MaxPooling2D(pool_size\u001b[38;5;241m=\u001b[39m(\u001b[38;5;241m2\u001b[39m, \u001b[38;5;241m2\u001b[39m)))(x_mfcc)\n\u001b[0;32m     13\u001b[0m x_mfcc \u001b[38;5;241m=\u001b[39m TimeDistributed(Dropout(\u001b[38;5;241m0.3\u001b[39m))(x_mfcc)\n",
      "File \u001b[1;32mc:\\Users\\abhin\\AppData\\Local\\Programs\\Python\\Python312\\Lib\\site-packages\\keras\\src\\utils\\traceback_utils.py:122\u001b[0m, in \u001b[0;36mfilter_traceback.<locals>.error_handler\u001b[1;34m(*args, **kwargs)\u001b[0m\n\u001b[0;32m    119\u001b[0m     filtered_tb \u001b[38;5;241m=\u001b[39m _process_traceback_frames(e\u001b[38;5;241m.\u001b[39m__traceback__)\n\u001b[0;32m    120\u001b[0m     \u001b[38;5;66;03m# To get the full stack trace, call:\u001b[39;00m\n\u001b[0;32m    121\u001b[0m     \u001b[38;5;66;03m# `keras.config.disable_traceback_filtering()`\u001b[39;00m\n\u001b[1;32m--> 122\u001b[0m     \u001b[38;5;28;01mraise\u001b[39;00m e\u001b[38;5;241m.\u001b[39mwith_traceback(filtered_tb) \u001b[38;5;28;01mfrom\u001b[39;00m \u001b[38;5;28;01mNone\u001b[39;00m\n\u001b[0;32m    123\u001b[0m \u001b[38;5;28;01mfinally\u001b[39;00m:\n\u001b[0;32m    124\u001b[0m     \u001b[38;5;28;01mdel\u001b[39;00m filtered_tb\n",
      "File \u001b[1;32mc:\\Users\\abhin\\AppData\\Local\\Programs\\Python\\Python312\\Lib\\site-packages\\keras\\src\\ops\\operation_utils.py:184\u001b[0m, in \u001b[0;36mcompute_conv_output_shape\u001b[1;34m(input_shape, filters, kernel_size, strides, padding, data_format, dilation_rate)\u001b[0m\n\u001b[0;32m    182\u001b[0m     kernel_shape \u001b[38;5;241m=\u001b[39m kernel_size \u001b[38;5;241m+\u001b[39m (input_shape[\u001b[38;5;241m1\u001b[39m], filters)\n\u001b[0;32m    183\u001b[0m \u001b[38;5;28;01mif\u001b[39;00m \u001b[38;5;28mlen\u001b[39m(kernel_shape) \u001b[38;5;241m!=\u001b[39m \u001b[38;5;28mlen\u001b[39m(input_shape):\n\u001b[1;32m--> 184\u001b[0m     \u001b[38;5;28;01mraise\u001b[39;00m \u001b[38;5;167;01mValueError\u001b[39;00m(\n\u001b[0;32m    185\u001b[0m         \u001b[38;5;124m\"\u001b[39m\u001b[38;5;124mKernel shape must have the same length as input, but received \u001b[39m\u001b[38;5;124m\"\u001b[39m\n\u001b[0;32m    186\u001b[0m         \u001b[38;5;124mf\u001b[39m\u001b[38;5;124m\"\u001b[39m\u001b[38;5;124mkernel of shape \u001b[39m\u001b[38;5;132;01m{\u001b[39;00mkernel_shape\u001b[38;5;132;01m}\u001b[39;00m\u001b[38;5;124m and \u001b[39m\u001b[38;5;124m\"\u001b[39m\n\u001b[0;32m    187\u001b[0m         \u001b[38;5;124mf\u001b[39m\u001b[38;5;124m\"\u001b[39m\u001b[38;5;124minput of shape \u001b[39m\u001b[38;5;132;01m{\u001b[39;00minput_shape\u001b[38;5;132;01m}\u001b[39;00m\u001b[38;5;124m.\u001b[39m\u001b[38;5;124m\"\u001b[39m\n\u001b[0;32m    188\u001b[0m     )\n\u001b[0;32m    189\u001b[0m \u001b[38;5;28;01mif\u001b[39;00m \u001b[38;5;28misinstance\u001b[39m(dilation_rate, \u001b[38;5;28mint\u001b[39m):\n\u001b[0;32m    190\u001b[0m     dilation_rate \u001b[38;5;241m=\u001b[39m (dilation_rate,) \u001b[38;5;241m*\u001b[39m \u001b[38;5;28mlen\u001b[39m(spatial_shape)\n",
      "\u001b[1;31mValueError\u001b[0m: Kernel shape must have the same length as input, but received kernel of shape (3, 3, 1, 16) and input of shape (None, 40, 1)."
     ]
    }
   ],
   "source": [
    "input_shape_mfcc=(174,40)\n",
    "input_shape_melspec=(174,128)\n",
    "model=create_model(input_shape_mfcc,input_shape_melspec,num_classes=3)\n"
   ]
  },
  {
   "cell_type": "code",
   "execution_count": null,
   "metadata": {},
   "outputs": [],
   "source": [
    "from tensorflow.keras.metrics import AUC\n",
    "model.compile(optimizer='adam',loss='categorical_crossentropy',metrics=['accuracy','Precision',AUC(),'Recall'])\n",
    "model.summary()"
   ]
  },
  {
   "cell_type": "code",
   "execution_count": null,
   "metadata": {},
   "outputs": [],
   "source": [
    "#import matplotlib.pyplot as plt\n",
    "\n",
    "checkpoint=tf.keras.callbacks.ModelCheckpoint('best_model.keras',monitor='val_accuracy',save_best_only=True,mode='max')\n",
    "losscheck=tf.keras.callbacks.ModelCheckpoint('best_model.keras',monitor='val_loss',save_best_only=True,mode='min')\n",
    "# Assuming `model` is your compiled model and you have train and validation data\n",
    "history = model.fit([X_mfcc_train, X_melspec_train], y_train, \n",
    "                    validation_data=([X_mfcc_val, X_melspec_val], y_val),\n",
    "                    epochs=50,  # Number of epochs you want to train\n",
    "                    batch_size=32,callbacks=[checkpoint,losscheck])\n",
    "\n",
    "\n",
    "results=model.evaluate([X_mfcc_test,X_melspec_test],y_test)\n",
    "test_loss,test_accuracy=results[0],results[1]\n",
    "print(f'Test Accuracy:{test_accuracy*100:.2f}%')\n",
    "print(f'Test Loss:{test_loss*100:.2f}%')\n",
    "\n",
    "\n",
    "#Plot training & validation accuracy values\n",
    "plt.plot(history.history['accuracy'], label='Training Accuracy')\n",
    "plt.plot(history.history['val_accuracy'], label='Validation Accuracy')\n",
    "\n",
    "# Adding labels and title\n",
    "plt.title('Model Accuracy vs Epochs')\n",
    "plt.ylabel('Accuracy')\n",
    "plt.xlabel('Epochs')\n",
    "plt.legend(loc='upper left')\n",
    "\n",
    "epochs = len(history.history['accuracy'])\n",
    "plt.xticks(np.arange(0, epochs+1, 10))  # Scale of 10 on x-axis\n",
    "\n",
    "\n",
    "# Display the plot\n",
    "plt.show()\n",
    "\n",
    "\n",
    "\n",
    "plt.plot(history.history['loss'], label='Training loss')\n",
    "plt.plot(history.history['val_loss'], label='Validation loss')\n",
    "\n",
    "# Adding labels and title\n",
    "plt.title('Model loss vs Epochs')\n",
    "plt.ylabel('loss')\n",
    "plt.xlabel('Epochs')\n",
    "plt.legend(loc='upper left')\n",
    "\n",
    "epochs = len(history.history['loss'])\n",
    "plt.xticks(np.arange(0, epochs+1, 10))  # Scale of 10 on x-axis\n",
    "\n",
    "\n",
    "# Display the plot\n",
    "plt.show()\n",
    "\n",
    "\n",
    "\n"
   ]
  }
 ],
 "metadata": {
  "kernelspec": {
   "display_name": "Python 3",
   "language": "python",
   "name": "python3"
  },
  "language_info": {
   "codemirror_mode": {
    "name": "ipython",
    "version": 3
   },
   "file_extension": ".py",
   "mimetype": "text/x-python",
   "name": "python",
   "nbconvert_exporter": "python",
   "pygments_lexer": "ipython3",
   "version": "3.12.6"
  }
 },
 "nbformat": 4,
 "nbformat_minor": 2
}
